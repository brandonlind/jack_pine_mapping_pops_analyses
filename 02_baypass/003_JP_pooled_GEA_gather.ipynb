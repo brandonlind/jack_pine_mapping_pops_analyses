{
 "cells": [
  {
   "cell_type": "markdown",
   "metadata": {},
   "source": [
    "This notebook best viewed here: https://nbviewer.jupyter.org"
   ]
  },
  {
   "cell_type": "markdown",
   "metadata": {},
   "source": [
    " "
   ]
  },
  {
   "cell_type": "markdown",
   "metadata": {},
   "source": [
    "This notebook is for the Jack pine GEA mapping pops\n",
    "\n",
    "#### Purpose\n",
    "• I've run the baypass commands across eighty-some jobs, I need to gather the jobs and concatenate results.\n",
    "\n",
    "#### Notebook outline\n",
    "\n",
    "- __rsync files from servers__\n",
    "    - I execute the rsync commands to transfer files from the executing servers to our lab server\n",
    "- __check what needs to be done__\n",
    "    - given the number of gfiles and chains, make sure all of the commands have been executed/transferred\n",
    "- __gather all of the wanted resfiles and concat into single dataframes__\n",
    "    - gather the files with BF, label SNP IDs, and concat into single dataframe\n",
    "- __Rank loci__\n",
    "    - Rank each locus for each chain by BF(dB)\n",
    "    - Caclulate mean BF(dB) across 5 chains, rank each locus based on mean\n",
    "    - Create boolean column with True if locus is ranked in top 1% for at least 3/5 chains\n",
    "    - Create boolean column with True if locus has BF(dB) >= 15 for at least 3/5 chains\n",
    "    - Create boolean column with True if locus has BF(dB) >= 20 for at least 3/5 chains\n",
    "- __look at BF scores for consistent top 1% ranks__\n",
    "    - explore the top 1% of ranks\n",
    "    - count number of SNPs >= BF(dB) thresholds {15, 20}, print if not all SNPs >= thresh are consistently in top 1% across chains"
   ]
  },
  {
   "cell_type": "markdown",
   "metadata": {},
   "source": [
    "  "
   ]
  },
  {
   "cell_type": "markdown",
   "metadata": {},
   "source": [
    " "
   ]
  },
  {
   "cell_type": "markdown",
   "metadata": {},
   "source": [
    " "
   ]
  },
  {
   "cell_type": "code",
   "execution_count": 1,
   "metadata": {},
   "outputs": [
    {
     "name": "stdout",
     "output_type": "stream",
     "text": [
      "56 56\n"
     ]
    }
   ],
   "source": [
    "from pythonimports import *\n",
    "lview,dview = get_client()"
   ]
  },
  {
   "cell_type": "code",
   "execution_count": 2,
   "metadata": {},
   "outputs": [],
   "source": [
    "# dir names\n",
    "baydir = '/data/projects/pool_seq/pangenome/JP_pangenome/JP_pooled/snpsANDindels/03_maf-p05_RD-recalculated/baypass'\n",
    "cmddir = op.join(baydir, 'cmd_files')\n",
    "rundir = op.join(cmddir, 'run_01')\n",
    "gfile_dir = op.join(baydir, 'individual_gfiles')\n",
    "shdir = op.join(cmddir, 'shfiles')\n",
    "resdir = op.join(cmddir, 'results')\n",
    "assert op.exists(resdir)\n",
    "rsyncdir = makedir(op.join(baydir, 'rsync_files'))"
   ]
  },
  {
   "cell_type": "markdown",
   "metadata": {},
   "source": [
    "# rsync files from servers"
   ]
  },
  {
   "cell_type": "code",
   "execution_count": 36,
   "metadata": {},
   "outputs": [],
   "source": [
    "def exe(cmd):\n",
    "    \"\"\"execute system command.\"\"\"\n",
    "    import os\n",
    "    os.system(cmd)"
   ]
  },
  {
   "cell_type": "code",
   "execution_count": 37,
   "metadata": {},
   "outputs": [],
   "source": [
    "def submit_cmds(cmds):\n",
    "    \"\"\"Execute a list of system commands in parallel. Return cmd if there was an error.\"\"\"\n",
    "    jobs = []\n",
    "    for cmd in nb(cmds):\n",
    "        jobs.append(lview.apply_async(exe, cmd))\n",
    "    watch_async(jobs)\n",
    "    \n",
    "    badcmds = []\n",
    "    for i,j in enumerate(jobs):\n",
    "        try:\n",
    "            x=j.r\n",
    "        except:\n",
    "            badcmds.append(cmds[i])\n",
    "    print('len(badcmds) = ', len(badcmds))\n",
    "    \n",
    "    return badcmds"
   ]
  },
  {
   "cell_type": "code",
   "execution_count": 65,
   "metadata": {},
   "outputs": [],
   "source": [
    "def check_realfiles(cmds, new=False):\n",
    "    \"\"\"Make sure all transferred files exist.\n",
    "    new is used if transferring the results from SNPs that were once REPEATS (NA for Jack pine)\n",
    "    \"\"\"\n",
    "    realfiles = []\n",
    "#     if new is True:\n",
    "#         rundir = newrundir\n",
    "#         gfile_dir = newgfiledir\n",
    "#         shdir = newshdir\n",
    "#         resdir = newresdir\n",
    "    for d in [rundir, gfile_dir, shdir, resdir]:\n",
    "        realfiles.extend(fs(d, dirs=False))\n",
    "    \n",
    "    expfiles = []\n",
    "    for cmd in cmds:\n",
    "        expfiles.append(cmd.split()[-1])\n",
    "    \n",
    "    print('len(realfiles) = ', len(realfiles))\n",
    "    print('len(expfiles) =', len(expfiles))\n",
    "    \n",
    "    needed = list(set(expfiles) - set(realfiles))\n",
    "#     return needed\n",
    "    \n",
    "    print('needed = ', len(needed))\n",
    "    \n",
    "    needed_cmds = []\n",
    "    for n in needed:\n",
    "        for cmd in cmds:\n",
    "            if n in cmd:\n",
    "                needed_cmds.append(cmd)\n",
    "    print('needed_cmds = ', len(needed_cmds))\n",
    "    return needed_cmds"
   ]
  },
  {
   "cell_type": "markdown",
   "metadata": {},
   "source": [
    "#### cedar cmds"
   ]
  },
  {
   "cell_type": "code",
   "execution_count": 7,
   "metadata": {},
   "outputs": [
    {
     "data": {
      "text/plain": [
       "'/data/projects/pool_seq/pangenome/JP_pangenome/JP_pooled/snpsANDindels/03_maf-p05_RD-recalculated/baypass'"
      ]
     },
     "execution_count": 7,
     "metadata": {},
     "output_type": "execute_result"
    }
   ],
   "source": [
    "baydir"
   ]
  },
  {
   "cell_type": "code",
   "execution_count": 57,
   "metadata": {},
   "outputs": [
    {
     "data": {
      "text/plain": [
       "20772"
      ]
     },
     "execution_count": 57,
     "metadata": {},
     "output_type": "execute_result"
    }
   ],
   "source": [
    "cmds = read(op.join(baydir, 'cedar_rsync_cmds.txt'))\n",
    "len(cmds)"
   ]
  },
  {
   "cell_type": "code",
   "execution_count": 9,
   "metadata": {},
   "outputs": [
    {
     "data": {
      "text/plain": [
       "'/data/projects/pool_seq/pangenome/JP_pangenome/JP_pooled/snpsANDindels/03_maf-p05_RD-recalculated/baypass/cmd_files/shfiles'"
      ]
     },
     "execution_count": 9,
     "metadata": {},
     "output_type": "execute_result"
    }
   ],
   "source": [
    "dirs = []\n",
    "for cmd in cmds:\n",
    "    newfile = cmd.split()[-1]\n",
    "    dname = op.dirname(newfile)\n",
    "    dirs.append(dname)\n",
    "for d in uni(dirs):\n",
    "    assert op.exists(d)\n",
    "d"
   ]
  },
  {
   "cell_type": "code",
   "execution_count": 10,
   "metadata": {},
   "outputs": [
    {
     "data": {
      "text/plain": [
       "'rsync -avz cedar:/scratch/lindb/jp_gea/cmd_files/results/all_snps_ADP-lt-1000_gfile_0000_chain_1_DIC.out /data/projects/pool_seq/pangenome/JP_pangenome/JP_pooled/snpsANDindels/03_maf-p05_RD-recalculated/baypass/cmd_files/results/all_snps_ADP-lt-1000_gfile_0000_chain_1_DIC.out'"
      ]
     },
     "execution_count": 10,
     "metadata": {},
     "output_type": "execute_result"
    }
   ],
   "source": [
    "cmds[0]"
   ]
  },
  {
   "cell_type": "code",
   "execution_count": 11,
   "metadata": {
    "scrolled": true
   },
   "outputs": [
    {
     "name": "stderr",
     "output_type": "stream",
     "text": [
      "100%|██████████| 20772/20772 [00:31<00:00, 651.34it/s]\n"
     ]
    },
    {
     "name": "stdout",
     "output_type": "stream",
     "text": [
      "\u001b[1m\n",
      "Watching 20772 jobs ...\u001b[0m\n"
     ]
    },
    {
     "name": "stderr",
     "output_type": "stream",
     "text": [
      "100%|██████████| 20772/20772 [1:09:16<00:00,  5.00it/s]"
     ]
    },
    {
     "name": "stdout",
     "output_type": "stream",
     "text": [
      "len(badcmds) =  0\n"
     ]
    },
    {
     "name": "stderr",
     "output_type": "stream",
     "text": [
      "\n"
     ]
    }
   ],
   "source": [
    "badcmds = submit_cmds(cmds)"
   ]
  },
  {
   "cell_type": "code",
   "execution_count": 12,
   "metadata": {},
   "outputs": [
    {
     "data": {
      "text/plain": [
       "0"
      ]
     },
     "execution_count": 12,
     "metadata": {},
     "output_type": "execute_result"
    }
   ],
   "source": [
    "len(badcmds)"
   ]
  },
  {
   "cell_type": "code",
   "execution_count": 66,
   "metadata": {
    "scrolled": true
   },
   "outputs": [
    {
     "name": "stdout",
     "output_type": "stream",
     "text": [
      "len(realfiles) =  22503\n",
      "len(expfiles) = 20772\n",
      "needed =  3\n",
      "needed_cmds =  3\n"
     ]
    },
    {
     "data": {
      "text/plain": [
       "3"
      ]
     },
     "execution_count": 66,
     "metadata": {},
     "output_type": "execute_result"
    }
   ],
   "source": [
    "needed = check_realfiles(cmds)\n",
    "len(needed)"
   ]
  },
  {
   "cell_type": "code",
   "execution_count": 67,
   "metadata": {},
   "outputs": [
    {
     "data": {
      "text/plain": [
       "['rsync -avz cedar:/scratch/lindb/jp_gea/cmd_files/results/all_snps_ADP-lt-1000_gfile_0002_chain_2_summary_pi_xtx.out /data/projects/pool_seq/pangenome/JP_pangenome/JP_pooled/snpsANDindels/03_maf-p05_RD-recalculated/baypass/cmd_files/results/all_snps_ADP-lt-1000_gfile_0002_chain_2_summary_pi_xtx.out',\n",
       " 'rsync -avz cedar:/scratch/lindb/jp_gea/cmd_files/results/all_snps_ADP-lt-1000_gfile_0002_chain_2_summary_beta_params.out /data/projects/pool_seq/pangenome/JP_pangenome/JP_pooled/snpsANDindels/03_maf-p05_RD-recalculated/baypass/cmd_files/results/all_snps_ADP-lt-1000_gfile_0002_chain_2_summary_beta_params.out',\n",
       " 'rsync -avz cedar:/scratch/lindb/jp_gea/cmd_files/results/all_snps_ADP-lt-1000_gfile_0002_chain_1_summary_yij_pij.out /data/projects/pool_seq/pangenome/JP_pangenome/JP_pooled/snpsANDindels/03_maf-p05_RD-recalculated/baypass/cmd_files/results/all_snps_ADP-lt-1000_gfile_0002_chain_1_summary_yij_pij.out']"
      ]
     },
     "execution_count": 67,
     "metadata": {},
     "output_type": "execute_result"
    }
   ],
   "source": [
    "needed"
   ]
  },
  {
   "cell_type": "code",
   "execution_count": 68,
   "metadata": {
    "scrolled": true
   },
   "outputs": [
    {
     "name": "stderr",
     "output_type": "stream",
     "text": [
      "100%|██████████| 3/3 [00:00<00:00, 1298.28it/s]\n"
     ]
    },
    {
     "name": "stdout",
     "output_type": "stream",
     "text": [
      "\u001b[1m\n",
      "Watching 3 jobs ...\u001b[0m\n"
     ]
    },
    {
     "name": "stderr",
     "output_type": "stream",
     "text": [
      "100%|██████████| 3/3 [00:01<00:00,  2.10it/s]"
     ]
    },
    {
     "name": "stdout",
     "output_type": "stream",
     "text": [
      "len(badcmds) =  0\n"
     ]
    },
    {
     "name": "stderr",
     "output_type": "stream",
     "text": [
      "\n"
     ]
    }
   ],
   "source": [
    "badcmds = submit_cmds(needed)"
   ]
  },
  {
   "cell_type": "code",
   "execution_count": 69,
   "metadata": {},
   "outputs": [
    {
     "name": "stdout",
     "output_type": "stream",
     "text": [
      "len(realfiles) =  22506\n",
      "len(expfiles) = 20772\n",
      "needed =  0\n",
      "needed_cmds =  0\n"
     ]
    },
    {
     "data": {
      "text/plain": [
       "0"
      ]
     },
     "execution_count": 69,
     "metadata": {},
     "output_type": "execute_result"
    }
   ],
   "source": [
    "needed = check_realfiles(cmds)\n",
    "len(needed)"
   ]
  },
  {
   "cell_type": "code",
   "execution_count": null,
   "metadata": {},
   "outputs": [],
   "source": []
  },
  {
   "cell_type": "markdown",
   "metadata": {},
   "source": [
    "# check what needs to be done\n",
    "given the number of gfiles and chains, make sure all of the commands have been executed/transferred"
   ]
  },
  {
   "cell_type": "markdown",
   "metadata": {},
   "source": [
    "#### first check to make sure every sh file was exececuted (ie, check that each has a slurm .out file)"
   ]
  },
  {
   "cell_type": "code",
   "execution_count": 13,
   "metadata": {},
   "outputs": [
    {
     "data": {
      "text/plain": [
       "(86, 86)"
      ]
     },
     "execution_count": 13,
     "metadata": {},
     "output_type": "execute_result"
    }
   ],
   "source": [
    "# the the shfiles and out files\n",
    "shfiles = fs(shdir, endswith='.sh')\n",
    "outs = fs(shdir, endswith='.out')\n",
    "len(shfiles), len(outs)"
   ]
  },
  {
   "cell_type": "code",
   "execution_count": 15,
   "metadata": {
    "scrolled": true
   },
   "outputs": [
    {
     "data": {
      "text/plain": [
       "0"
      ]
     },
     "execution_count": 15,
     "metadata": {},
     "output_type": "execute_result"
    }
   ],
   "source": [
    "# which sh files were not run, print out any that weren't run\n",
    "pairs = {}\n",
    "for sh in shfiles:\n",
    "    pairs[sh] = []\n",
    "    for out in outs:\n",
    "        if op.basename(sh).split(\".\")[0] in out:\n",
    "            pairs[sh].append(out)\n",
    "needed = []\n",
    "for sh,outfiles in pairs.items():\n",
    "    if len(outfiles) < 1:\n",
    "        print(sh, len(outfiles))\n",
    "        needed.append(sh)\n",
    "len(needed)"
   ]
  },
  {
   "cell_type": "markdown",
   "metadata": {},
   "source": [
    "#### go through catfiles and make sure all of the commands inside were run"
   ]
  },
  {
   "cell_type": "code",
   "execution_count": 16,
   "metadata": {},
   "outputs": [
    {
     "data": {
      "text/plain": [
       "'/data/projects/pool_seq/pangenome/JP_pangenome/JP_pooled/snpsANDindels/03_maf-p05_RD-recalculated/baypass/cmd_files/results'"
      ]
     },
     "execution_count": 16,
     "metadata": {},
     "output_type": "execute_result"
    }
   ],
   "source": [
    "resdir"
   ]
  },
  {
   "cell_type": "code",
   "execution_count": 17,
   "metadata": {},
   "outputs": [
    {
     "data": {
      "text/plain": [
       "4120"
      ]
     },
     "execution_count": 17,
     "metadata": {},
     "output_type": "execute_result"
    }
   ],
   "source": [
    "# get one of the files for each of the commands that executed successfully (count the succesful cmds)\n",
    "resfiles = fs(resdir, endswith='DIC.out')\n",
    "len(resfiles)"
   ]
  },
  {
   "cell_type": "code",
   "execution_count": 18,
   "metadata": {},
   "outputs": [
    {
     "data": {
      "text/plain": [
       "86"
      ]
     },
     "execution_count": 18,
     "metadata": {},
     "output_type": "execute_result"
    }
   ],
   "source": [
    "# get the files with the baypass commands - this matches number of sh files (good)\n",
    "catfiles = fs(rundir, pattern='catfile')\n",
    "len(catfiles)"
   ]
  },
  {
   "cell_type": "code",
   "execution_count": 19,
   "metadata": {},
   "outputs": [
    {
     "name": "stderr",
     "output_type": "stream",
     "text": [
      "100%|██████████| 86/86 [00:12<00:00,  6.83it/s]\n"
     ]
    },
    {
     "data": {
      "text/plain": [
       "'all_snps_ADP-lt-1000_gfile_0823_chain_5'"
      ]
     },
     "execution_count": 19,
     "metadata": {},
     "output_type": "execute_result"
    }
   ],
   "source": [
    "# iterate through catfile commands and make sure there's a result for each\n",
    "found = {}  # map prefix to output file\n",
    "exe = {}  # map prefix to command used\n",
    "needed_catfiles = []\n",
    "catcount = Counter()\n",
    "cmdcats = {}  # map cmds to catfiles\n",
    "for cat in nb(catfiles):\n",
    "    # get the commands\n",
    "    cmds = read(cat)\n",
    "    \n",
    "    # assign prefixes (= num cmds) to their output\n",
    "    notfound = True\n",
    "    for cmd in cmds:\n",
    "        assert cmd not in cmdcats\n",
    "        cmdcats[cmd] = cat\n",
    "        prefix = cmd.split(\"-outprefix\")[1].split()[0]\n",
    "        assert prefix not in found and 'chain' in prefix\n",
    "        exe[prefix] = cmd\n",
    "        found[prefix] = []\n",
    "        for res in resfiles:\n",
    "            if prefix in op.basename(res):\n",
    "                found[prefix].append(res)\n",
    "        if len(found[prefix]) > 0:\n",
    "            notfound = False\n",
    "            catcount[cat] += 1\n",
    "    if notfound is True:\n",
    "        needed_catfiles.append(cat)\n",
    "            \n",
    "prefix"
   ]
  },
  {
   "cell_type": "code",
   "execution_count": 20,
   "metadata": {},
   "outputs": [
    {
     "data": {
      "text/plain": [
       "0"
      ]
     },
     "execution_count": 20,
     "metadata": {},
     "output_type": "execute_result"
    }
   ],
   "source": [
    "len(needed_catfiles)"
   ]
  },
  {
   "cell_type": "code",
   "execution_count": 21,
   "metadata": {},
   "outputs": [
    {
     "data": {
      "text/plain": [
       "Counter({48: 85, 40: 1})"
      ]
     },
     "execution_count": 21,
     "metadata": {},
     "output_type": "execute_result"
    }
   ],
   "source": [
    "Counter(catcount.values())"
   ]
  },
  {
   "cell_type": "code",
   "execution_count": 22,
   "metadata": {},
   "outputs": [
    {
     "data": {
      "text/plain": [
       "[]"
      ]
     },
     "execution_count": 22,
     "metadata": {},
     "output_type": "execute_result"
    }
   ],
   "source": [
    "needed_catfiles"
   ]
  },
  {
   "cell_type": "code",
   "execution_count": 23,
   "metadata": {},
   "outputs": [
    {
     "data": {
      "text/plain": [
       "0"
      ]
     },
     "execution_count": 23,
     "metadata": {},
     "output_type": "execute_result"
    }
   ],
   "source": [
    "# figure out which prefixes have zero output (and need to be reran) or cmds with >1 output (impossible...)\n",
    "needed_cmds = []\n",
    "for prefix,reslist in found.items():\n",
    "    if len(reslist) == 0:\n",
    "        needed_cmds.append(exe[prefix])  # get the cmd that needs to be executed\n",
    "    elif len(reslist) > 1:\n",
    "        print('\\n', prefix, len(reslist))  # this shouldn't be possible, check anyway, print if so\n",
    "len(needed_cmds)"
   ]
  },
  {
   "cell_type": "code",
   "execution_count": 24,
   "metadata": {},
   "outputs": [],
   "source": [
    "cats = []\n",
    "for cmd in needed_cmds:\n",
    "    cats.append(cmdcats[cmd])"
   ]
  },
  {
   "cell_type": "code",
   "execution_count": 25,
   "metadata": {},
   "outputs": [
    {
     "data": {
      "text/plain": [
       "0"
      ]
     },
     "execution_count": 25,
     "metadata": {},
     "output_type": "execute_result"
    }
   ],
   "source": [
    "luni(cats)"
   ]
  },
  {
   "cell_type": "code",
   "execution_count": 26,
   "metadata": {},
   "outputs": [],
   "source": [
    "for cat in suni(cats):\n",
    "    print(cat, catcount[cat])"
   ]
  },
  {
   "cell_type": "markdown",
   "metadata": {},
   "source": [
    " "
   ]
  },
  {
   "cell_type": "markdown",
   "metadata": {},
   "source": [
    " "
   ]
  },
  {
   "cell_type": "markdown",
   "metadata": {},
   "source": [
    "# gather all of the wanted resfiles and concat into single dataframes\n",
    "\n",
    "gather the files with BF, label SNP IDs, label environmental covariables, and concat into single dataframe"
   ]
  },
  {
   "cell_type": "code",
   "execution_count": null,
   "metadata": {},
   "outputs": [],
   "source": [
    "# restart notebook"
   ]
  },
  {
   "cell_type": "code",
   "execution_count": 3,
   "metadata": {},
   "outputs": [
    {
     "name": "stdout",
     "output_type": "stream",
     "text": [
      "##################################################################\n",
      "Current commit of pythonimports:\n",
      "commit 647abb223c2255e83d2a5fb93a3e0f510c9b2893\n",
      "Author: Brandon <lindb@vcu.edu>\n",
      "Date:   Fri Jan 22 16:27:36 2021 -0700\n",
      "Today:\tJanuary 25, 2021 - 15:11:22\n",
      "python version: 3.8.5\n",
      "##################################################################\n",
      "\n"
     ]
    }
   ],
   "source": [
    "latest_commit()"
   ]
  },
  {
   "cell_type": "code",
   "execution_count": 4,
   "metadata": {
    "scrolled": true
   },
   "outputs": [
    {
     "data": {
      "text/plain": [
       "(4120, 4120)"
      ]
     },
     "execution_count": 4,
     "metadata": {},
     "output_type": "execute_result"
    }
   ],
   "source": [
    "bffiles = fs(resdir, endswith='betai_reg.out')\n",
    "xtxfiles = fs(resdir, endswith='pi_xtx.out')\n",
    "len(bffiles), len(xtxfiles)"
   ]
  },
  {
   "cell_type": "code",
   "execution_count": 5,
   "metadata": {},
   "outputs": [
    {
     "data": {
      "text/html": [
       "<div>\n",
       "<style scoped>\n",
       "    .dataframe tbody tr th:only-of-type {\n",
       "        vertical-align: middle;\n",
       "    }\n",
       "\n",
       "    .dataframe tbody tr th {\n",
       "        vertical-align: top;\n",
       "    }\n",
       "\n",
       "    .dataframe thead th {\n",
       "        text-align: right;\n",
       "    }\n",
       "</style>\n",
       "<table border=\"1\" class=\"dataframe\">\n",
       "  <thead>\n",
       "    <tr style=\"text-align: right;\">\n",
       "      <th></th>\n",
       "      <th>COVARIABLE</th>\n",
       "      <th>MRK</th>\n",
       "      <th>M_Pearson</th>\n",
       "      <th>SD_Pearson</th>\n",
       "      <th>BF(dB)</th>\n",
       "      <th>Beta_is</th>\n",
       "      <th>SD_Beta_is</th>\n",
       "      <th>eBPis</th>\n",
       "    </tr>\n",
       "  </thead>\n",
       "  <tbody>\n",
       "    <tr>\n",
       "      <th>0</th>\n",
       "      <td>1</td>\n",
       "      <td>1</td>\n",
       "      <td>0.039384</td>\n",
       "      <td>0.151242</td>\n",
       "      <td>-9.951510</td>\n",
       "      <td>0.002221</td>\n",
       "      <td>0.006836</td>\n",
       "      <td>0.127693</td>\n",
       "    </tr>\n",
       "    <tr>\n",
       "      <th>1</th>\n",
       "      <td>1</td>\n",
       "      <td>2</td>\n",
       "      <td>-0.129070</td>\n",
       "      <td>0.134180</td>\n",
       "      <td>-5.714039</td>\n",
       "      <td>-0.004833</td>\n",
       "      <td>0.004594</td>\n",
       "      <td>0.533400</td>\n",
       "    </tr>\n",
       "    <tr>\n",
       "      <th>2</th>\n",
       "      <td>1</td>\n",
       "      <td>3</td>\n",
       "      <td>0.140226</td>\n",
       "      <td>0.131843</td>\n",
       "      <td>-5.245571</td>\n",
       "      <td>0.006144</td>\n",
       "      <td>0.005941</td>\n",
       "      <td>0.521411</td>\n",
       "    </tr>\n",
       "    <tr>\n",
       "      <th>3</th>\n",
       "      <td>1</td>\n",
       "      <td>4</td>\n",
       "      <td>0.155061</td>\n",
       "      <td>0.130182</td>\n",
       "      <td>-6.067559</td>\n",
       "      <td>0.005477</td>\n",
       "      <td>0.004490</td>\n",
       "      <td>0.652603</td>\n",
       "    </tr>\n",
       "    <tr>\n",
       "      <th>4</th>\n",
       "      <td>1</td>\n",
       "      <td>5</td>\n",
       "      <td>0.095952</td>\n",
       "      <td>0.132582</td>\n",
       "      <td>-6.778828</td>\n",
       "      <td>0.005063</td>\n",
       "      <td>0.006913</td>\n",
       "      <td>0.333578</td>\n",
       "    </tr>\n",
       "  </tbody>\n",
       "</table>\n",
       "</div>"
      ],
      "text/plain": [
       "   COVARIABLE  MRK  M_Pearson  SD_Pearson    BF(dB)   Beta_is  SD_Beta_is  \\\n",
       "0           1    1   0.039384    0.151242 -9.951510  0.002221    0.006836   \n",
       "1           1    2  -0.129070    0.134180 -5.714039 -0.004833    0.004594   \n",
       "2           1    3   0.140226    0.131843 -5.245571  0.006144    0.005941   \n",
       "3           1    4   0.155061    0.130182 -6.067559  0.005477    0.004490   \n",
       "4           1    5   0.095952    0.132582 -6.778828  0.005063    0.006913   \n",
       "\n",
       "      eBPis  \n",
       "0  0.127693  \n",
       "1  0.533400  \n",
       "2  0.521411  \n",
       "3  0.652603  \n",
       "4  0.333578  "
      ]
     },
     "execution_count": 5,
     "metadata": {},
     "output_type": "execute_result"
    }
   ],
   "source": [
    "bf = pd.read_table(bffiles[0], delim_whitespace=True)\n",
    "bf.head()"
   ]
  },
  {
   "cell_type": "code",
   "execution_count": 6,
   "metadata": {},
   "outputs": [
    {
     "data": {
      "text/html": [
       "<div>\n",
       "<style scoped>\n",
       "    .dataframe tbody tr th:only-of-type {\n",
       "        vertical-align: middle;\n",
       "    }\n",
       "\n",
       "    .dataframe tbody tr th {\n",
       "        vertical-align: top;\n",
       "    }\n",
       "\n",
       "    .dataframe thead th {\n",
       "        text-align: right;\n",
       "    }\n",
       "</style>\n",
       "<table border=\"1\" class=\"dataframe\">\n",
       "  <thead>\n",
       "    <tr style=\"text-align: right;\">\n",
       "      <th></th>\n",
       "      <th>MRK</th>\n",
       "      <th>M_P</th>\n",
       "      <th>SD_P</th>\n",
       "      <th>M_XtX</th>\n",
       "      <th>SD_XtX</th>\n",
       "      <th>XtXst</th>\n",
       "      <th>log10(1/pval)</th>\n",
       "    </tr>\n",
       "  </thead>\n",
       "  <tbody>\n",
       "    <tr>\n",
       "      <th>0</th>\n",
       "      <td>1</td>\n",
       "      <td>0.666976</td>\n",
       "      <td>0.063586</td>\n",
       "      <td>40.827182</td>\n",
       "      <td>9.060927</td>\n",
       "      <td>20.996178</td>\n",
       "      <td>0.002518</td>\n",
       "    </tr>\n",
       "    <tr>\n",
       "      <th>1</th>\n",
       "      <td>2</td>\n",
       "      <td>0.862181</td>\n",
       "      <td>0.043055</td>\n",
       "      <td>43.817601</td>\n",
       "      <td>8.856782</td>\n",
       "      <td>56.578992</td>\n",
       "      <td>1.367690</td>\n",
       "    </tr>\n",
       "    <tr>\n",
       "      <th>2</th>\n",
       "      <td>3</td>\n",
       "      <td>0.744974</td>\n",
       "      <td>0.054798</td>\n",
       "      <td>45.986353</td>\n",
       "      <td>9.160910</td>\n",
       "      <td>58.934117</td>\n",
       "      <td>1.566546</td>\n",
       "    </tr>\n",
       "    <tr>\n",
       "      <th>3</th>\n",
       "      <td>4</td>\n",
       "      <td>0.873878</td>\n",
       "      <td>0.041195</td>\n",
       "      <td>45.383695</td>\n",
       "      <td>9.010875</td>\n",
       "      <td>64.042233</td>\n",
       "      <td>2.033616</td>\n",
       "    </tr>\n",
       "    <tr>\n",
       "      <th>4</th>\n",
       "      <td>5</td>\n",
       "      <td>0.573680</td>\n",
       "      <td>0.059836</td>\n",
       "      <td>48.193034</td>\n",
       "      <td>9.714306</td>\n",
       "      <td>65.271847</td>\n",
       "      <td>2.152840</td>\n",
       "    </tr>\n",
       "  </tbody>\n",
       "</table>\n",
       "</div>"
      ],
      "text/plain": [
       "   MRK       M_P      SD_P      M_XtX    SD_XtX      XtXst  log10(1/pval)\n",
       "0    1  0.666976  0.063586  40.827182  9.060927  20.996178       0.002518\n",
       "1    2  0.862181  0.043055  43.817601  8.856782  56.578992       1.367690\n",
       "2    3  0.744974  0.054798  45.986353  9.160910  58.934117       1.566546\n",
       "3    4  0.873878  0.041195  45.383695  9.010875  64.042233       2.033616\n",
       "4    5  0.573680  0.059836  48.193034  9.714306  65.271847       2.152840"
      ]
     },
     "execution_count": 6,
     "metadata": {},
     "output_type": "execute_result"
    }
   ],
   "source": [
    "xtx = pd.read_table(xtxfiles[0], delim_whitespace=True)\n",
    "xtx.head()"
   ]
  },
  {
   "cell_type": "code",
   "execution_count": 7,
   "metadata": {},
   "outputs": [],
   "source": [
    "def label_snps(resfile):\n",
    "    \"\"\"Label baypass resfiles with SNP ID using pkl files saved in 002_kickoff.\"\"\"\n",
    "    import os\n",
    "    import pandas\n",
    "    # find the gfile associated with resfile\n",
    "    prefix = os.path.basename(resfile).split(\"_chain\")[0]\n",
    "    chain = \"chain_%s\" % os.path.basename(resfile).split(prefix)[1].split(\"_\")[2]\n",
    "    \n",
    "    # get the pkl file that has the ordered list of SNP IDs for the gfile\n",
    "    if 'new' in resfile:\n",
    "        newgfile_dir = os.path.dirname(resfile).replace(\"new_results\", \"new_individual_gfiles\")\n",
    "        pklfile = os.path.join(newgfile_dir, f'{prefix}_noheaderidx.pkl')\n",
    "    else:\n",
    "        pklfile = os.path.join(gfile_dir, f'{prefix}_noheaderidx.pkl')\n",
    "    gloci = pklload(pklfile)  # read in rows with SNPIDs, but only one column\n",
    "    \n",
    "    # read in the resfile\n",
    "    df = pandas.read_table(resfile, delim_whitespace=True)\n",
    "    \n",
    "    # map MRK column (SNP index) to locus name\n",
    "    gdict = dict((num+1, locus) for num,locus in enumerate(gloci))\n",
    "    \n",
    "    # map covariable column to environment ID\n",
    "    edict = dict((num+1, env) for num,env in enumerate(efile.index))\n",
    "    \n",
    "    # split each covariable (env) in to its own file, label index with SNP ID\n",
    "    df['env'] = df['COVARIABLE'].map(edict)\n",
    "    envdfs = {chain:{}}\n",
    "    for env in uni(df['env']):\n",
    "        envdfs[chain][env] = df[df['env']==env].copy()\n",
    "        envdfs[chain][env].index = envdfs[chain][env]['MRK'].map(gdict)\n",
    "        envdfs[chain][env].index.names = ['']\n",
    "\n",
    "    return envdfs\n",
    "\n",
    "efile = pd.read_table(op.join(baydir, 'efile_std_HEADERIDX.txt'), index_col=0, usecols=[0,1])\n",
    "dview['efile'] = efile\n",
    "dview['uni'] = uni\n",
    "dview['gfile_dir'] = gfile_dir\n",
    "dview['pklload'] = pklload"
   ]
  },
  {
   "cell_type": "code",
   "execution_count": 8,
   "metadata": {},
   "outputs": [
    {
     "name": "stderr",
     "output_type": "stream",
     "text": [
      "100%|██████████| 4120/4120 [00:03<00:00, 1291.18it/s]\n"
     ]
    },
    {
     "name": "stdout",
     "output_type": "stream",
     "text": [
      "\u001b[1m\n",
      "Watching 4120 jobs ...\u001b[0m\n"
     ]
    },
    {
     "name": "stderr",
     "output_type": "stream",
     "text": [
      "100%|██████████| 4120/4120 [07:53<00:00,  8.71it/s]\n"
     ]
    }
   ],
   "source": [
    "# label SNP IDs in parallel\n",
    "jobs = []\n",
    "for bffile in nb(bffiles):\n",
    "    jobs.append(lview.apply_async(label_snps, bffile))\n",
    "watch_async(jobs)"
   ]
  },
  {
   "cell_type": "code",
   "execution_count": 9,
   "metadata": {},
   "outputs": [
    {
     "name": "stderr",
     "output_type": "stream",
     "text": [
      "100%|██████████| 4120/4120 [00:00<00:00, 16500.24it/s]\n"
     ]
    },
    {
     "data": {
      "text/plain": [
       "['chain_1', 'chain_2', 'chain_3', 'chain_4', 'chain_5']"
      ]
     },
     "execution_count": 9,
     "metadata": {},
     "output_type": "execute_result"
    }
   ],
   "source": [
    "# gather output by environment\n",
    "envlist = {}\n",
    "for j in nb(jobs):\n",
    "    if j.ready():\n",
    "        chain = keys(j.r)[0]\n",
    "        if chain not in envlist:\n",
    "            envlist[chain] = {}\n",
    "        for env in j.r[chain]:\n",
    "            if env not in envlist[chain]:\n",
    "                envlist[chain][env] = []\n",
    "            envlist[chain][env].append(j.r[chain][env])\n",
    "keys(envlist)"
   ]
  },
  {
   "cell_type": "code",
   "execution_count": 10,
   "metadata": {
    "scrolled": true
   },
   "outputs": [
    {
     "name": "stderr",
     "output_type": "stream",
     "text": [
      "chain_1: 100%|██████████| 19/19 [00:10<00:00,  1.80it/s]\n",
      "chain_2: 100%|██████████| 19/19 [00:06<00:00,  3.00it/s]\n",
      "chain_3: 100%|██████████| 19/19 [00:07<00:00,  2.55it/s]\n",
      "chain_4: 100%|██████████| 19/19 [00:06<00:00,  2.83it/s]\n",
      "chain_5: 100%|██████████| 19/19 [00:08<00:00,  2.35it/s]"
     ]
    },
    {
     "name": "stdout",
     "output_type": "stream",
     "text": [
      "\u001b[1mchain_1\u001b[0m\n",
      "\t AHM 1235028\n",
      "\t NFFD 1235028\n",
      "\t PAS 1235028\n",
      "\t SHM 1235028\n",
      "\t MAT 1235028\n",
      "\t MAP 1235028\n",
      "\t FFP 1235028\n",
      "\t MWMT 1235028\n",
      "\t EMT 1235028\n",
      "\t EXT 1235028\n",
      "\t DD_0 1235028\n",
      "\t Eref 1235028\n",
      "\t eFFP 1235028\n",
      "\t MCMT 1235028\n",
      "\t DD5 1235028\n",
      "\t TD 1235028\n",
      "\t bFFP 1235028\n",
      "\t MSP 1235028\n",
      "\t CMD 1235028\n",
      "\u001b[1mchain_2\u001b[0m\n",
      "\t MCMT 1235028\n",
      "\t DD_0 1235028\n",
      "\t MAT 1235028\n",
      "\t Eref 1235028\n",
      "\t EXT 1235028\n",
      "\t AHM 1235028\n",
      "\t TD 1235028\n",
      "\t MAP 1235028\n",
      "\t bFFP 1235028\n",
      "\t MSP 1235028\n",
      "\t PAS 1235028\n",
      "\t MWMT 1235028\n",
      "\t DD5 1235028\n",
      "\t NFFD 1235028\n",
      "\t FFP 1235028\n",
      "\t SHM 1235028\n",
      "\t CMD 1235028\n",
      "\t eFFP 1235028\n",
      "\t EMT 1235028\n",
      "\u001b[1mchain_3\u001b[0m\n",
      "\t MCMT 1235028\n",
      "\t DD5 1235028\n",
      "\t SHM 1235028\n",
      "\t TD 1235028\n",
      "\t eFFP 1235028\n",
      "\t Eref 1235028\n",
      "\t MWMT 1235028\n",
      "\t EMT 1235028\n",
      "\t EXT 1235028\n",
      "\t FFP 1235028\n",
      "\t AHM 1235028\n",
      "\t MAP 1235028\n",
      "\t bFFP 1235028\n",
      "\t MSP 1235028\n",
      "\t CMD 1235028\n",
      "\t DD_0 1235028\n",
      "\t PAS 1235028\n",
      "\t NFFD 1235028\n",
      "\t MAT 1235028\n",
      "\u001b[1mchain_4\u001b[0m\n",
      "\t EXT 1235028\n",
      "\t FFP 1235028\n",
      "\t MSP 1235028\n",
      "\t MWMT 1235028\n",
      "\t Eref 1235028\n",
      "\t AHM 1235028\n",
      "\t EMT 1235028\n",
      "\t bFFP 1235028\n",
      "\t MAT 1235028\n",
      "\t DD5 1235028\n",
      "\t MCMT 1235028\n",
      "\t TD 1235028\n",
      "\t MAP 1235028\n",
      "\t eFFP 1235028\n",
      "\t PAS 1235028\n",
      "\t DD_0 1235028\n",
      "\t CMD 1235028\n",
      "\t SHM 1235028\n",
      "\t NFFD 1235028\n",
      "\u001b[1mchain_5\u001b[0m\n",
      "\t FFP 1235028\n",
      "\t PAS 1235028\n",
      "\t CMD 1235028\n",
      "\t bFFP 1235028\n",
      "\t AHM 1235028\n",
      "\t DD5 1235028\n",
      "\t MWMT 1235028\n",
      "\t MCMT 1235028\n",
      "\t eFFP 1235028\n",
      "\t MAT 1235028\n",
      "\t SHM 1235028\n",
      "\t Eref 1235028\n",
      "\t EMT 1235028\n",
      "\t TD 1235028\n",
      "\t DD_0 1235028\n",
      "\t MAP 1235028\n",
      "\t MSP 1235028\n",
      "\t NFFD 1235028\n",
      "\t EXT 1235028\n"
     ]
    },
    {
     "name": "stderr",
     "output_type": "stream",
     "text": [
      "\n"
     ]
    }
   ],
   "source": [
    "# concatenate environmental output by each chain, print out num snps for each env for each chain\n",
    "chaindfs = {}\n",
    "for chain,envs in envlist.items():\n",
    "    assert len(envs) == 19\n",
    "    if chain not in chaindfs:\n",
    "        chaindfs[chain] = {}\n",
    "    for env,dfs in nb(envs.items(), desc=chain):\n",
    "        if env not in chaindfs[chain]:\n",
    "            chaindfs[chain][env] = pd.concat(dfs)\n",
    "        else:\n",
    "            print('crap ', chain, env)\n",
    "for chain in chaindfs:\n",
    "    print(ColorText(chain).bold())\n",
    "    for env in chaindfs[chain]:\n",
    "        print('\\t',env, nrow(chaindfs[chain][env]))"
   ]
  },
  {
   "cell_type": "code",
   "execution_count": 11,
   "metadata": {
    "scrolled": true
   },
   "outputs": [
    {
     "name": "stderr",
     "output_type": "stream",
     "text": [
      "chain_1: 100%|██████████| 19/19 [00:06<00:00,  2.95it/s]\n",
      "chain_2: 100%|██████████| 19/19 [00:07<00:00,  2.56it/s]\n",
      "chain_3: 100%|██████████| 19/19 [00:06<00:00,  2.84it/s]\n",
      "chain_4: 100%|██████████| 19/19 [00:07<00:00,  2.40it/s]\n",
      "chain_5: 100%|██████████| 19/19 [00:06<00:00,  2.86it/s]\n",
      "combo: 100%|██████████| 19/19 [01:36<00:00,  5.06s/it]\n"
     ]
    },
    {
     "data": {
      "text/html": [
       "<div>\n",
       "<style scoped>\n",
       "    .dataframe tbody tr th:only-of-type {\n",
       "        vertical-align: middle;\n",
       "    }\n",
       "\n",
       "    .dataframe tbody tr th {\n",
       "        vertical-align: top;\n",
       "    }\n",
       "\n",
       "    .dataframe thead th {\n",
       "        text-align: right;\n",
       "    }\n",
       "</style>\n",
       "<table border=\"1\" class=\"dataframe\">\n",
       "  <thead>\n",
       "    <tr style=\"text-align: right;\">\n",
       "      <th></th>\n",
       "      <th>chain_1-COVARIABLE</th>\n",
       "      <th>chain_1-MRK</th>\n",
       "      <th>chain_1-M_Pearson</th>\n",
       "      <th>chain_1-SD_Pearson</th>\n",
       "      <th>chain_1-BF(dB)</th>\n",
       "      <th>chain_1-Beta_is</th>\n",
       "      <th>chain_1-SD_Beta_is</th>\n",
       "      <th>chain_1-eBPis</th>\n",
       "      <th>chain_1-env</th>\n",
       "      <th>chain_2-COVARIABLE</th>\n",
       "      <th>chain_2-MRK</th>\n",
       "      <th>chain_2-M_Pearson</th>\n",
       "      <th>chain_2-SD_Pearson</th>\n",
       "      <th>chain_2-BF(dB)</th>\n",
       "      <th>chain_2-Beta_is</th>\n",
       "      <th>chain_2-SD_Beta_is</th>\n",
       "      <th>chain_2-eBPis</th>\n",
       "      <th>chain_2-env</th>\n",
       "      <th>chain_3-COVARIABLE</th>\n",
       "      <th>chain_3-MRK</th>\n",
       "      <th>chain_3-M_Pearson</th>\n",
       "      <th>chain_3-SD_Pearson</th>\n",
       "      <th>chain_3-BF(dB)</th>\n",
       "      <th>chain_3-Beta_is</th>\n",
       "      <th>chain_3-SD_Beta_is</th>\n",
       "      <th>chain_3-eBPis</th>\n",
       "      <th>chain_3-env</th>\n",
       "      <th>chain_4-COVARIABLE</th>\n",
       "      <th>chain_4-MRK</th>\n",
       "      <th>chain_4-M_Pearson</th>\n",
       "      <th>chain_4-SD_Pearson</th>\n",
       "      <th>chain_4-BF(dB)</th>\n",
       "      <th>chain_4-Beta_is</th>\n",
       "      <th>chain_4-SD_Beta_is</th>\n",
       "      <th>chain_4-eBPis</th>\n",
       "      <th>chain_4-env</th>\n",
       "      <th>chain_5-COVARIABLE</th>\n",
       "      <th>chain_5-MRK</th>\n",
       "      <th>chain_5-M_Pearson</th>\n",
       "      <th>chain_5-SD_Pearson</th>\n",
       "      <th>chain_5-BF(dB)</th>\n",
       "      <th>chain_5-Beta_is</th>\n",
       "      <th>chain_5-SD_Beta_is</th>\n",
       "      <th>chain_5-eBPis</th>\n",
       "      <th>chain_5-env</th>\n",
       "    </tr>\n",
       "    <tr>\n",
       "      <th></th>\n",
       "      <th></th>\n",
       "      <th></th>\n",
       "      <th></th>\n",
       "      <th></th>\n",
       "      <th></th>\n",
       "      <th></th>\n",
       "      <th></th>\n",
       "      <th></th>\n",
       "      <th></th>\n",
       "      <th></th>\n",
       "      <th></th>\n",
       "      <th></th>\n",
       "      <th></th>\n",
       "      <th></th>\n",
       "      <th></th>\n",
       "      <th></th>\n",
       "      <th></th>\n",
       "      <th></th>\n",
       "      <th></th>\n",
       "      <th></th>\n",
       "      <th></th>\n",
       "      <th></th>\n",
       "      <th></th>\n",
       "      <th></th>\n",
       "      <th></th>\n",
       "      <th></th>\n",
       "      <th></th>\n",
       "      <th></th>\n",
       "      <th></th>\n",
       "      <th></th>\n",
       "      <th></th>\n",
       "      <th></th>\n",
       "      <th></th>\n",
       "      <th></th>\n",
       "      <th></th>\n",
       "      <th></th>\n",
       "      <th></th>\n",
       "      <th></th>\n",
       "      <th></th>\n",
       "      <th></th>\n",
       "      <th></th>\n",
       "      <th></th>\n",
       "      <th></th>\n",
       "      <th></th>\n",
       "      <th></th>\n",
       "    </tr>\n",
       "  </thead>\n",
       "  <tbody>\n",
       "    <tr>\n",
       "      <th>Scaffold_1-15421</th>\n",
       "      <td>2</td>\n",
       "      <td>1</td>\n",
       "      <td>0.051447</td>\n",
       "      <td>0.151095</td>\n",
       "      <td>-9.952499</td>\n",
       "      <td>0.002247</td>\n",
       "      <td>0.006854</td>\n",
       "      <td>0.129004</td>\n",
       "      <td>CMD</td>\n",
       "      <td>2</td>\n",
       "      <td>1</td>\n",
       "      <td>0.057185</td>\n",
       "      <td>0.151341</td>\n",
       "      <td>-10.007640</td>\n",
       "      <td>0.002484</td>\n",
       "      <td>0.006855</td>\n",
       "      <td>0.144454</td>\n",
       "      <td>CMD</td>\n",
       "      <td>2</td>\n",
       "      <td>1</td>\n",
       "      <td>0.052535</td>\n",
       "      <td>0.149798</td>\n",
       "      <td>-10.141194</td>\n",
       "      <td>0.002300</td>\n",
       "      <td>0.006806</td>\n",
       "      <td>0.133442</td>\n",
       "      <td>CMD</td>\n",
       "      <td>2</td>\n",
       "      <td>1</td>\n",
       "      <td>0.054957</td>\n",
       "      <td>0.151121</td>\n",
       "      <td>-9.499320</td>\n",
       "      <td>0.002399</td>\n",
       "      <td>0.006864</td>\n",
       "      <td>0.138625</td>\n",
       "      <td>CMD</td>\n",
       "      <td>2</td>\n",
       "      <td>1</td>\n",
       "      <td>0.051739</td>\n",
       "      <td>0.150198</td>\n",
       "      <td>-7.729909</td>\n",
       "      <td>0.002274</td>\n",
       "      <td>0.006831</td>\n",
       "      <td>0.131230</td>\n",
       "      <td>CMD</td>\n",
       "    </tr>\n",
       "    <tr>\n",
       "      <th>Scaffold_1-47333</th>\n",
       "      <td>2</td>\n",
       "      <td>2</td>\n",
       "      <td>-0.116514</td>\n",
       "      <td>0.134277</td>\n",
       "      <td>-7.971254</td>\n",
       "      <td>-0.003791</td>\n",
       "      <td>0.004591</td>\n",
       "      <td>0.388304</td>\n",
       "      <td>CMD</td>\n",
       "      <td>2</td>\n",
       "      <td>2</td>\n",
       "      <td>-0.114894</td>\n",
       "      <td>0.133472</td>\n",
       "      <td>-9.897663</td>\n",
       "      <td>-0.003720</td>\n",
       "      <td>0.004525</td>\n",
       "      <td>0.386088</td>\n",
       "      <td>CMD</td>\n",
       "      <td>2</td>\n",
       "      <td>2</td>\n",
       "      <td>-0.118043</td>\n",
       "      <td>0.133207</td>\n",
       "      <td>-9.281454</td>\n",
       "      <td>-0.003852</td>\n",
       "      <td>0.004568</td>\n",
       "      <td>0.398892</td>\n",
       "      <td>CMD</td>\n",
       "      <td>2</td>\n",
       "      <td>2</td>\n",
       "      <td>-0.117554</td>\n",
       "      <td>0.134256</td>\n",
       "      <td>-10.068139</td>\n",
       "      <td>-0.003787</td>\n",
       "      <td>0.004538</td>\n",
       "      <td>0.393662</td>\n",
       "      <td>CMD</td>\n",
       "      <td>2</td>\n",
       "      <td>2</td>\n",
       "      <td>-0.123037</td>\n",
       "      <td>0.134260</td>\n",
       "      <td>-8.657871</td>\n",
       "      <td>-0.003982</td>\n",
       "      <td>0.004549</td>\n",
       "      <td>0.418723</td>\n",
       "      <td>CMD</td>\n",
       "    </tr>\n",
       "    <tr>\n",
       "      <th>Scaffold_1-47418</th>\n",
       "      <td>2</td>\n",
       "      <td>3</td>\n",
       "      <td>0.081214</td>\n",
       "      <td>0.132238</td>\n",
       "      <td>-10.240492</td>\n",
       "      <td>0.003642</td>\n",
       "      <td>0.005907</td>\n",
       "      <td>0.269548</td>\n",
       "      <td>CMD</td>\n",
       "      <td>2</td>\n",
       "      <td>3</td>\n",
       "      <td>0.081045</td>\n",
       "      <td>0.132341</td>\n",
       "      <td>-9.287821</td>\n",
       "      <td>0.003630</td>\n",
       "      <td>0.005925</td>\n",
       "      <td>0.267479</td>\n",
       "      <td>CMD</td>\n",
       "      <td>2</td>\n",
       "      <td>3</td>\n",
       "      <td>0.079777</td>\n",
       "      <td>0.133714</td>\n",
       "      <td>-10.436700</td>\n",
       "      <td>0.003599</td>\n",
       "      <td>0.006026</td>\n",
       "      <td>0.259344</td>\n",
       "      <td>CMD</td>\n",
       "      <td>2</td>\n",
       "      <td>3</td>\n",
       "      <td>0.084094</td>\n",
       "      <td>0.130357</td>\n",
       "      <td>-10.414719</td>\n",
       "      <td>0.003773</td>\n",
       "      <td>0.005847</td>\n",
       "      <td>0.285065</td>\n",
       "      <td>CMD</td>\n",
       "      <td>2</td>\n",
       "      <td>3</td>\n",
       "      <td>0.082501</td>\n",
       "      <td>0.132830</td>\n",
       "      <td>-9.359020</td>\n",
       "      <td>0.003720</td>\n",
       "      <td>0.005986</td>\n",
       "      <td>0.272233</td>\n",
       "      <td>CMD</td>\n",
       "    </tr>\n",
       "    <tr>\n",
       "      <th>Scaffold_1-47461</th>\n",
       "      <td>2</td>\n",
       "      <td>4</td>\n",
       "      <td>0.108414</td>\n",
       "      <td>0.130257</td>\n",
       "      <td>-10.625692</td>\n",
       "      <td>0.003586</td>\n",
       "      <td>0.004434</td>\n",
       "      <td>0.378142</td>\n",
       "      <td>CMD</td>\n",
       "      <td>2</td>\n",
       "      <td>4</td>\n",
       "      <td>0.105085</td>\n",
       "      <td>0.129258</td>\n",
       "      <td>-10.184394</td>\n",
       "      <td>0.003507</td>\n",
       "      <td>0.004430</td>\n",
       "      <td>0.368001</td>\n",
       "      <td>CMD</td>\n",
       "      <td>2</td>\n",
       "      <td>4</td>\n",
       "      <td>0.104969</td>\n",
       "      <td>0.129429</td>\n",
       "      <td>-10.151789</td>\n",
       "      <td>0.003489</td>\n",
       "      <td>0.004411</td>\n",
       "      <td>0.367557</td>\n",
       "      <td>CMD</td>\n",
       "      <td>2</td>\n",
       "      <td>4</td>\n",
       "      <td>0.109103</td>\n",
       "      <td>0.129657</td>\n",
       "      <td>-10.394433</td>\n",
       "      <td>0.003645</td>\n",
       "      <td>0.004458</td>\n",
       "      <td>0.383482</td>\n",
       "      <td>CMD</td>\n",
       "      <td>2</td>\n",
       "      <td>4</td>\n",
       "      <td>0.109389</td>\n",
       "      <td>0.129900</td>\n",
       "      <td>-10.122486</td>\n",
       "      <td>0.003652</td>\n",
       "      <td>0.004469</td>\n",
       "      <td>0.383207</td>\n",
       "      <td>CMD</td>\n",
       "    </tr>\n",
       "    <tr>\n",
       "      <th>Scaffold_1-47513</th>\n",
       "      <td>2</td>\n",
       "      <td>5</td>\n",
       "      <td>0.060725</td>\n",
       "      <td>0.132636</td>\n",
       "      <td>-10.049559</td>\n",
       "      <td>0.003143</td>\n",
       "      <td>0.006919</td>\n",
       "      <td>0.187311</td>\n",
       "      <td>CMD</td>\n",
       "      <td>2</td>\n",
       "      <td>5</td>\n",
       "      <td>0.062573</td>\n",
       "      <td>0.129969</td>\n",
       "      <td>-10.194740</td>\n",
       "      <td>0.003239</td>\n",
       "      <td>0.006785</td>\n",
       "      <td>0.198550</td>\n",
       "      <td>CMD</td>\n",
       "      <td>2</td>\n",
       "      <td>5</td>\n",
       "      <td>0.061090</td>\n",
       "      <td>0.132563</td>\n",
       "      <td>-10.390651</td>\n",
       "      <td>0.003162</td>\n",
       "      <td>0.006900</td>\n",
       "      <td>0.189286</td>\n",
       "      <td>CMD</td>\n",
       "      <td>2</td>\n",
       "      <td>5</td>\n",
       "      <td>0.061317</td>\n",
       "      <td>0.131085</td>\n",
       "      <td>-9.973298</td>\n",
       "      <td>0.003163</td>\n",
       "      <td>0.006828</td>\n",
       "      <td>0.191693</td>\n",
       "      <td>CMD</td>\n",
       "      <td>2</td>\n",
       "      <td>5</td>\n",
       "      <td>0.059041</td>\n",
       "      <td>0.130865</td>\n",
       "      <td>-10.544881</td>\n",
       "      <td>0.003052</td>\n",
       "      <td>0.006823</td>\n",
       "      <td>0.184015</td>\n",
       "      <td>CMD</td>\n",
       "    </tr>\n",
       "  </tbody>\n",
       "</table>\n",
       "</div>"
      ],
      "text/plain": [
       "                  chain_1-COVARIABLE  chain_1-MRK  chain_1-M_Pearson  \\\n",
       "                                                                       \n",
       "Scaffold_1-15421                   2            1           0.051447   \n",
       "Scaffold_1-47333                   2            2          -0.116514   \n",
       "Scaffold_1-47418                   2            3           0.081214   \n",
       "Scaffold_1-47461                   2            4           0.108414   \n",
       "Scaffold_1-47513                   2            5           0.060725   \n",
       "\n",
       "                  chain_1-SD_Pearson  chain_1-BF(dB)  chain_1-Beta_is  \\\n",
       "                                                                        \n",
       "Scaffold_1-15421            0.151095       -9.952499         0.002247   \n",
       "Scaffold_1-47333            0.134277       -7.971254        -0.003791   \n",
       "Scaffold_1-47418            0.132238      -10.240492         0.003642   \n",
       "Scaffold_1-47461            0.130257      -10.625692         0.003586   \n",
       "Scaffold_1-47513            0.132636      -10.049559         0.003143   \n",
       "\n",
       "                  chain_1-SD_Beta_is  chain_1-eBPis chain_1-env  \\\n",
       "                                                                  \n",
       "Scaffold_1-15421            0.006854       0.129004         CMD   \n",
       "Scaffold_1-47333            0.004591       0.388304         CMD   \n",
       "Scaffold_1-47418            0.005907       0.269548         CMD   \n",
       "Scaffold_1-47461            0.004434       0.378142         CMD   \n",
       "Scaffold_1-47513            0.006919       0.187311         CMD   \n",
       "\n",
       "                  chain_2-COVARIABLE  chain_2-MRK  chain_2-M_Pearson  \\\n",
       "                                                                       \n",
       "Scaffold_1-15421                   2            1           0.057185   \n",
       "Scaffold_1-47333                   2            2          -0.114894   \n",
       "Scaffold_1-47418                   2            3           0.081045   \n",
       "Scaffold_1-47461                   2            4           0.105085   \n",
       "Scaffold_1-47513                   2            5           0.062573   \n",
       "\n",
       "                  chain_2-SD_Pearson  chain_2-BF(dB)  chain_2-Beta_is  \\\n",
       "                                                                        \n",
       "Scaffold_1-15421            0.151341      -10.007640         0.002484   \n",
       "Scaffold_1-47333            0.133472       -9.897663        -0.003720   \n",
       "Scaffold_1-47418            0.132341       -9.287821         0.003630   \n",
       "Scaffold_1-47461            0.129258      -10.184394         0.003507   \n",
       "Scaffold_1-47513            0.129969      -10.194740         0.003239   \n",
       "\n",
       "                  chain_2-SD_Beta_is  chain_2-eBPis chain_2-env  \\\n",
       "                                                                  \n",
       "Scaffold_1-15421            0.006855       0.144454         CMD   \n",
       "Scaffold_1-47333            0.004525       0.386088         CMD   \n",
       "Scaffold_1-47418            0.005925       0.267479         CMD   \n",
       "Scaffold_1-47461            0.004430       0.368001         CMD   \n",
       "Scaffold_1-47513            0.006785       0.198550         CMD   \n",
       "\n",
       "                  chain_3-COVARIABLE  chain_3-MRK  chain_3-M_Pearson  \\\n",
       "                                                                       \n",
       "Scaffold_1-15421                   2            1           0.052535   \n",
       "Scaffold_1-47333                   2            2          -0.118043   \n",
       "Scaffold_1-47418                   2            3           0.079777   \n",
       "Scaffold_1-47461                   2            4           0.104969   \n",
       "Scaffold_1-47513                   2            5           0.061090   \n",
       "\n",
       "                  chain_3-SD_Pearson  chain_3-BF(dB)  chain_3-Beta_is  \\\n",
       "                                                                        \n",
       "Scaffold_1-15421            0.149798      -10.141194         0.002300   \n",
       "Scaffold_1-47333            0.133207       -9.281454        -0.003852   \n",
       "Scaffold_1-47418            0.133714      -10.436700         0.003599   \n",
       "Scaffold_1-47461            0.129429      -10.151789         0.003489   \n",
       "Scaffold_1-47513            0.132563      -10.390651         0.003162   \n",
       "\n",
       "                  chain_3-SD_Beta_is  chain_3-eBPis chain_3-env  \\\n",
       "                                                                  \n",
       "Scaffold_1-15421            0.006806       0.133442         CMD   \n",
       "Scaffold_1-47333            0.004568       0.398892         CMD   \n",
       "Scaffold_1-47418            0.006026       0.259344         CMD   \n",
       "Scaffold_1-47461            0.004411       0.367557         CMD   \n",
       "Scaffold_1-47513            0.006900       0.189286         CMD   \n",
       "\n",
       "                  chain_4-COVARIABLE  chain_4-MRK  chain_4-M_Pearson  \\\n",
       "                                                                       \n",
       "Scaffold_1-15421                   2            1           0.054957   \n",
       "Scaffold_1-47333                   2            2          -0.117554   \n",
       "Scaffold_1-47418                   2            3           0.084094   \n",
       "Scaffold_1-47461                   2            4           0.109103   \n",
       "Scaffold_1-47513                   2            5           0.061317   \n",
       "\n",
       "                  chain_4-SD_Pearson  chain_4-BF(dB)  chain_4-Beta_is  \\\n",
       "                                                                        \n",
       "Scaffold_1-15421            0.151121       -9.499320         0.002399   \n",
       "Scaffold_1-47333            0.134256      -10.068139        -0.003787   \n",
       "Scaffold_1-47418            0.130357      -10.414719         0.003773   \n",
       "Scaffold_1-47461            0.129657      -10.394433         0.003645   \n",
       "Scaffold_1-47513            0.131085       -9.973298         0.003163   \n",
       "\n",
       "                  chain_4-SD_Beta_is  chain_4-eBPis chain_4-env  \\\n",
       "                                                                  \n",
       "Scaffold_1-15421            0.006864       0.138625         CMD   \n",
       "Scaffold_1-47333            0.004538       0.393662         CMD   \n",
       "Scaffold_1-47418            0.005847       0.285065         CMD   \n",
       "Scaffold_1-47461            0.004458       0.383482         CMD   \n",
       "Scaffold_1-47513            0.006828       0.191693         CMD   \n",
       "\n",
       "                  chain_5-COVARIABLE  chain_5-MRK  chain_5-M_Pearson  \\\n",
       "                                                                       \n",
       "Scaffold_1-15421                   2            1           0.051739   \n",
       "Scaffold_1-47333                   2            2          -0.123037   \n",
       "Scaffold_1-47418                   2            3           0.082501   \n",
       "Scaffold_1-47461                   2            4           0.109389   \n",
       "Scaffold_1-47513                   2            5           0.059041   \n",
       "\n",
       "                  chain_5-SD_Pearson  chain_5-BF(dB)  chain_5-Beta_is  \\\n",
       "                                                                        \n",
       "Scaffold_1-15421            0.150198       -7.729909         0.002274   \n",
       "Scaffold_1-47333            0.134260       -8.657871        -0.003982   \n",
       "Scaffold_1-47418            0.132830       -9.359020         0.003720   \n",
       "Scaffold_1-47461            0.129900      -10.122486         0.003652   \n",
       "Scaffold_1-47513            0.130865      -10.544881         0.003052   \n",
       "\n",
       "                  chain_5-SD_Beta_is  chain_5-eBPis chain_5-env  \n",
       "                                                                 \n",
       "Scaffold_1-15421            0.006831       0.131230         CMD  \n",
       "Scaffold_1-47333            0.004549       0.418723         CMD  \n",
       "Scaffold_1-47418            0.005986       0.272233         CMD  \n",
       "Scaffold_1-47461            0.004469       0.383207         CMD  \n",
       "Scaffold_1-47513            0.006823       0.184015         CMD  "
      ]
     },
     "execution_count": 11,
     "metadata": {},
     "output_type": "execute_result"
    }
   ],
   "source": [
    "# concatenate environmental output by each env, combine chains into single df\n",
    "dflst = {}\n",
    "for chain,envs in envlist.items():\n",
    "    for env,dfs in nb(envs.items(), desc=chain):\n",
    "        if env not in dflst:\n",
    "            dflst[env] = []\n",
    "        df = pd.concat(dfs)\n",
    "        df.columns = [f\"{chain}-{col}\" for col in df.columns]\n",
    "        dflst[env].append(df)\n",
    "# combine chains for each env - should have done this in parallel\n",
    "envdfs = {}\n",
    "for env,lst in nb(dflst.items(), desc='combo'):\n",
    "    assert len(lst) == 5\n",
    "    df = pd.merge(lst[0], lst[1], left_index=True, right_index=True)\n",
    "    df2 = pd.merge(lst[2], lst[3], left_index=True, right_index=True)\n",
    "    df3 = pd.merge(df, df2, left_index=True, right_index=True)\n",
    "    envdfs[env] = pd.merge(df3, lst[4], left_index=True, right_index=True)\n",
    "    \n",
    "    \n",
    "envdfs[env].head()           "
   ]
  },
  {
   "cell_type": "code",
   "execution_count": 12,
   "metadata": {},
   "outputs": [
    {
     "name": "stderr",
     "output_type": "stream",
     "text": [
      "100%|██████████| 824/824 [00:04<00:00, 184.45it/s]\n"
     ]
    },
    {
     "data": {
      "text/plain": [
       "1235028"
      ]
     },
     "execution_count": 12,
     "metadata": {},
     "output_type": "execute_result"
    }
   ],
   "source": [
    "# how many SNPs should be in each env file?\n",
    "# read in each of the gfiles and sum rows\n",
    "rows = 0\n",
    "for gfile in nb(fs(gfile_dir, pattern='noheaderidx.txt')):\n",
    "    df = pd.read_table(gfile, usecols=[0], header=None)\n",
    "    rows += nrow(df)\n",
    "rows"
   ]
  },
  {
   "cell_type": "code",
   "execution_count": 13,
   "metadata": {
    "scrolled": false
   },
   "outputs": [
    {
     "name": "stdout",
     "output_type": "stream",
     "text": [
      "\u001b[1mAHM\u001b[0m\n",
      "\t AHM 1235028\n",
      "\u001b[1mNFFD\u001b[0m\n",
      "\t NFFD 1235028\n",
      "\u001b[1mPAS\u001b[0m\n",
      "\t PAS 1235028\n",
      "\u001b[1mSHM\u001b[0m\n",
      "\t SHM 1235028\n",
      "\u001b[1mMAT\u001b[0m\n",
      "\t MAT 1235028\n",
      "\u001b[1mMAP\u001b[0m\n",
      "\t MAP 1235028\n",
      "\u001b[1mFFP\u001b[0m\n",
      "\t FFP 1235028\n",
      "\u001b[1mMWMT\u001b[0m\n",
      "\t MWMT 1235028\n",
      "\u001b[1mEMT\u001b[0m\n",
      "\t EMT 1235028\n",
      "\u001b[1mEXT\u001b[0m\n",
      "\t EXT 1235028\n",
      "\u001b[1mDD_0\u001b[0m\n",
      "\t DD_0 1235028\n",
      "\u001b[1mEref\u001b[0m\n",
      "\t Eref 1235028\n",
      "\u001b[1meFFP\u001b[0m\n",
      "\t eFFP 1235028\n",
      "\u001b[1mMCMT\u001b[0m\n",
      "\t MCMT 1235028\n",
      "\u001b[1mDD5\u001b[0m\n",
      "\t DD5 1235028\n",
      "\u001b[1mTD\u001b[0m\n",
      "\t TD 1235028\n",
      "\u001b[1mbFFP\u001b[0m\n",
      "\t bFFP 1235028\n",
      "\u001b[1mMSP\u001b[0m\n",
      "\t MSP 1235028\n",
      "\u001b[1mCMD\u001b[0m\n",
      "\t CMD 1235028\n"
     ]
    }
   ],
   "source": [
    "# assert each env has the expected number of rows (SNPs)\n",
    "for env in envdfs:\n",
    "    print(ColorText(env).bold())\n",
    "    print('\\t',env, nrow(envdfs[env]))\n",
    "    if nrow(envdfs[env]) != rows:\n",
    "        print(ColorText('CRAAAAAAAAAP').fail().bold())"
   ]
  },
  {
   "cell_type": "code",
   "execution_count": 14,
   "metadata": {},
   "outputs": [],
   "source": [
    "# release some RAM\n",
    "del dflst, chaindfs, df, df2, df3, dfs, envlist, jobs"
   ]
  },
  {
   "cell_type": "markdown",
   "metadata": {},
   "source": [
    "# Rank all loci"
   ]
  },
  {
   "cell_type": "code",
   "execution_count": 15,
   "metadata": {},
   "outputs": [],
   "source": [
    "def rank_baypass(df):\n",
    "    \"\"\"Create columns to rank loci within and across chains.\"\"\"\n",
    "    import pandas\n",
    "    import tqdm\n",
    "    import math\n",
    "    chains = ['chain_1', 'chain_2', 'chain_3', 'chain_4', 'chain_5']\n",
    "\n",
    "    # rank per chain based on chain BF\n",
    "    for chain in tqdm.tqdm(chains, desc='chains'):\n",
    "        col = f'{chain}-BF(dB)'\n",
    "#         colBF = df[col].apply(lambda x: 10**(x/10))  # convert deciban to BF\n",
    "        colBF = df[col]  # no need to convert!\n",
    "        ranked = dict((locus,rank+1) for (rank,locus) in enumerate(colBF.sort_values(ascending=False).index))\n",
    "        df[f'rank_{chain}-BF'] = [ranked[locus] for locus in df.index]\n",
    "\n",
    "    # mean BF\n",
    "    print('getting mean BF')\n",
    "    bfcols = [col for col in df if 'BF(dB)' in col and col.startswith('chain')]\n",
    "    print(bfcols)\n",
    "    assert len(bfcols) == 5  # 5 chains\n",
    "#     mean_BF_dB = df[bfcols].mean(axis=1)\n",
    "#     df['mean_BF'] = mean_BF_dB.apply(lambda x: 10**(x/10))  # convert deciban to BF\n",
    "    df['mean_BF(dB)'] = df[bfcols].mean(axis=1)  # no need to convert!\n",
    "\n",
    "    # rank of mean BF\n",
    "    print('ranking mean BF')\n",
    "    ranked = dict((locus,rank+1) for (rank,locus) in enumerate(df['mean_BF(dB)'].sort_values(ascending=False).index))\n",
    "    df['rank_mean_BF(dB)'] = [ranked[locus] for locus in df.index]\n",
    "    \n",
    "    # bool column, enter True if BF >= 20 for >=3 chains, and BF >= 15 for >= 3 chains\n",
    "    print('calculating bool column')\n",
    "#     df['BF_gte20_for-gte3chains'] = (df[bfcols] >= 10*math.log10(20)).sum(axis=1) >= 3\n",
    "#     df['BF_gte15_for-gte3chains'] = (df[bfcols] >= 10*math.log10(15)).sum(axis=1) >= 3\n",
    "#     print(sum((df[bfcols] > 10*math.log10(20)).sum(axis=1) > 3))\n",
    "    df['BF(dB)_gte20_for-gte3chains'] = (df[bfcols] >= 20).sum(axis=1) >= 3  # no need to convert!\n",
    "    df['BF(dB)_gte15_for-gte3chains'] = (df[bfcols] >= 15).sum(axis=1) >= 3  # no need to convert!\n",
    "    print(sum((df[bfcols] > 20).sum(axis=1) > 3))  # no need to convert!\n",
    "\n",
    "    return df"
   ]
  },
  {
   "cell_type": "code",
   "execution_count": 16,
   "metadata": {},
   "outputs": [
    {
     "name": "stderr",
     "output_type": "stream",
     "text": [
      "100%|██████████| 19/19 [00:35<00:00,  1.89s/it]\n"
     ]
    },
    {
     "name": "stdout",
     "output_type": "stream",
     "text": [
      "\u001b[1m\n",
      "Watching 19 jobs ...\u001b[0m\n"
     ]
    },
    {
     "name": "stderr",
     "output_type": "stream",
     "text": [
      "100%|██████████| 19/19 [00:20<00:00,  1.10s/it]\n"
     ]
    },
    {
     "data": {
      "text/plain": [
       "'0-00:00:57'"
      ]
     },
     "execution_count": 16,
     "metadata": {},
     "output_type": "execute_result"
    }
   ],
   "source": [
    "# call rank_baypass() in parallel for each environment\n",
    "t1 = dt.now()\n",
    "jobs = []\n",
    "for env,df in nb(envdfs.items()):\n",
    "    bfcols = [col for col in df.columns if 'BF(dB)' in col and col.startswith('chain')]\n",
    "    assert len(bfcols) == 5  # num chains\n",
    "    jobs.append(lview.apply_async(rank_baypass, df[bfcols]))\n",
    "watch_async(jobs)\n",
    "formatclock(dt.now() - t1, exact=True)"
   ]
  },
  {
   "cell_type": "code",
   "execution_count": 17,
   "metadata": {},
   "outputs": [
    {
     "data": {
      "text/html": [
       "<div>\n",
       "<style scoped>\n",
       "    .dataframe tbody tr th:only-of-type {\n",
       "        vertical-align: middle;\n",
       "    }\n",
       "\n",
       "    .dataframe tbody tr th {\n",
       "        vertical-align: top;\n",
       "    }\n",
       "\n",
       "    .dataframe thead th {\n",
       "        text-align: right;\n",
       "    }\n",
       "</style>\n",
       "<table border=\"1\" class=\"dataframe\">\n",
       "  <thead>\n",
       "    <tr style=\"text-align: right;\">\n",
       "      <th></th>\n",
       "      <th>chain_1-BF(dB)</th>\n",
       "      <th>chain_2-BF(dB)</th>\n",
       "      <th>chain_3-BF(dB)</th>\n",
       "      <th>chain_4-BF(dB)</th>\n",
       "      <th>chain_5-BF(dB)</th>\n",
       "      <th>rank_chain_1-BF</th>\n",
       "      <th>rank_chain_2-BF</th>\n",
       "      <th>rank_chain_3-BF</th>\n",
       "      <th>rank_chain_4-BF</th>\n",
       "      <th>rank_chain_5-BF</th>\n",
       "      <th>mean_BF(dB)</th>\n",
       "      <th>rank_mean_BF(dB)</th>\n",
       "      <th>BF(dB)_gte20_for-gte3chains</th>\n",
       "      <th>BF(dB)_gte15_for-gte3chains</th>\n",
       "    </tr>\n",
       "    <tr>\n",
       "      <th></th>\n",
       "      <th></th>\n",
       "      <th></th>\n",
       "      <th></th>\n",
       "      <th></th>\n",
       "      <th></th>\n",
       "      <th></th>\n",
       "      <th></th>\n",
       "      <th></th>\n",
       "      <th></th>\n",
       "      <th></th>\n",
       "      <th></th>\n",
       "      <th></th>\n",
       "      <th></th>\n",
       "      <th></th>\n",
       "    </tr>\n",
       "  </thead>\n",
       "  <tbody>\n",
       "    <tr>\n",
       "      <th>Scaffold_1-15421</th>\n",
       "      <td>-9.952499</td>\n",
       "      <td>-10.007640</td>\n",
       "      <td>-10.141194</td>\n",
       "      <td>-9.499320</td>\n",
       "      <td>-7.729909</td>\n",
       "      <td>347058</td>\n",
       "      <td>354352</td>\n",
       "      <td>372779</td>\n",
       "      <td>296611</td>\n",
       "      <td>174864</td>\n",
       "      <td>-9.466112</td>\n",
       "      <td>293990</td>\n",
       "      <td>False</td>\n",
       "      <td>False</td>\n",
       "    </tr>\n",
       "    <tr>\n",
       "      <th>Scaffold_1-47333</th>\n",
       "      <td>-7.971254</td>\n",
       "      <td>-9.897663</td>\n",
       "      <td>-9.281454</td>\n",
       "      <td>-10.068139</td>\n",
       "      <td>-8.657871</td>\n",
       "      <td>186650</td>\n",
       "      <td>340473</td>\n",
       "      <td>275990</td>\n",
       "      <td>362908</td>\n",
       "      <td>227446</td>\n",
       "      <td>-9.175276</td>\n",
       "      <td>266255</td>\n",
       "      <td>False</td>\n",
       "      <td>False</td>\n",
       "    </tr>\n",
       "    <tr>\n",
       "      <th>Scaffold_1-47418</th>\n",
       "      <td>-10.240492</td>\n",
       "      <td>-9.287821</td>\n",
       "      <td>-10.436700</td>\n",
       "      <td>-10.414719</td>\n",
       "      <td>-9.359020</td>\n",
       "      <td>386764</td>\n",
       "      <td>276484</td>\n",
       "      <td>419406</td>\n",
       "      <td>415684</td>\n",
       "      <td>282513</td>\n",
       "      <td>-9.947750</td>\n",
       "      <td>350660</td>\n",
       "      <td>False</td>\n",
       "      <td>False</td>\n",
       "    </tr>\n",
       "    <tr>\n",
       "      <th>Scaffold_1-47461</th>\n",
       "      <td>-10.625692</td>\n",
       "      <td>-10.184394</td>\n",
       "      <td>-10.151789</td>\n",
       "      <td>-10.394433</td>\n",
       "      <td>-10.122486</td>\n",
       "      <td>453875</td>\n",
       "      <td>378973</td>\n",
       "      <td>374244</td>\n",
       "      <td>412284</td>\n",
       "      <td>369799</td>\n",
       "      <td>-10.295759</td>\n",
       "      <td>403958</td>\n",
       "      <td>False</td>\n",
       "      <td>False</td>\n",
       "    </tr>\n",
       "    <tr>\n",
       "      <th>Scaffold_1-47513</th>\n",
       "      <td>-10.049559</td>\n",
       "      <td>-10.194740</td>\n",
       "      <td>-10.390651</td>\n",
       "      <td>-9.973298</td>\n",
       "      <td>-10.544881</td>\n",
       "      <td>359755</td>\n",
       "      <td>380512</td>\n",
       "      <td>411543</td>\n",
       "      <td>350290</td>\n",
       "      <td>437837</td>\n",
       "      <td>-10.230626</td>\n",
       "      <td>392911</td>\n",
       "      <td>False</td>\n",
       "      <td>False</td>\n",
       "    </tr>\n",
       "  </tbody>\n",
       "</table>\n",
       "</div>"
      ],
      "text/plain": [
       "                  chain_1-BF(dB)  chain_2-BF(dB)  chain_3-BF(dB)  \\\n",
       "                                                                   \n",
       "Scaffold_1-15421       -9.952499      -10.007640      -10.141194   \n",
       "Scaffold_1-47333       -7.971254       -9.897663       -9.281454   \n",
       "Scaffold_1-47418      -10.240492       -9.287821      -10.436700   \n",
       "Scaffold_1-47461      -10.625692      -10.184394      -10.151789   \n",
       "Scaffold_1-47513      -10.049559      -10.194740      -10.390651   \n",
       "\n",
       "                  chain_4-BF(dB)  chain_5-BF(dB)  rank_chain_1-BF  \\\n",
       "                                                                    \n",
       "Scaffold_1-15421       -9.499320       -7.729909           347058   \n",
       "Scaffold_1-47333      -10.068139       -8.657871           186650   \n",
       "Scaffold_1-47418      -10.414719       -9.359020           386764   \n",
       "Scaffold_1-47461      -10.394433      -10.122486           453875   \n",
       "Scaffold_1-47513       -9.973298      -10.544881           359755   \n",
       "\n",
       "                  rank_chain_2-BF  rank_chain_3-BF  rank_chain_4-BF  \\\n",
       "                                                                      \n",
       "Scaffold_1-15421           354352           372779           296611   \n",
       "Scaffold_1-47333           340473           275990           362908   \n",
       "Scaffold_1-47418           276484           419406           415684   \n",
       "Scaffold_1-47461           378973           374244           412284   \n",
       "Scaffold_1-47513           380512           411543           350290   \n",
       "\n",
       "                  rank_chain_5-BF  mean_BF(dB)  rank_mean_BF(dB)  \\\n",
       "                                                                   \n",
       "Scaffold_1-15421           174864    -9.466112            293990   \n",
       "Scaffold_1-47333           227446    -9.175276            266255   \n",
       "Scaffold_1-47418           282513    -9.947750            350660   \n",
       "Scaffold_1-47461           369799   -10.295759            403958   \n",
       "Scaffold_1-47513           437837   -10.230626            392911   \n",
       "\n",
       "                  BF(dB)_gte20_for-gte3chains  BF(dB)_gte15_for-gte3chains  \n",
       "                                                                            \n",
       "Scaffold_1-15421                        False                        False  \n",
       "Scaffold_1-47333                        False                        False  \n",
       "Scaffold_1-47418                        False                        False  \n",
       "Scaffold_1-47461                        False                        False  \n",
       "Scaffold_1-47513                        False                        False  "
      ]
     },
     "execution_count": 17,
     "metadata": {},
     "output_type": "execute_result"
    }
   ],
   "source": [
    "# get the returns from the engines\n",
    "new_envdfs = {}\n",
    "for i,env in enumerate(envdfs):\n",
    "    new_envdfs[env] = jobs[i].r\n",
    "new_envdfs[env].head()"
   ]
  },
  {
   "cell_type": "code",
   "execution_count": 18,
   "metadata": {},
   "outputs": [
    {
     "name": "stdout",
     "output_type": "stream",
     "text": [
      "18\n",
      "CMD\n"
     ]
    },
    {
     "data": {
      "text/html": [
       "<div>\n",
       "<style scoped>\n",
       "    .dataframe tbody tr th:only-of-type {\n",
       "        vertical-align: middle;\n",
       "    }\n",
       "\n",
       "    .dataframe tbody tr th {\n",
       "        vertical-align: top;\n",
       "    }\n",
       "\n",
       "    .dataframe thead th {\n",
       "        text-align: right;\n",
       "    }\n",
       "</style>\n",
       "<table border=\"1\" class=\"dataframe\">\n",
       "  <thead>\n",
       "    <tr style=\"text-align: right;\">\n",
       "      <th></th>\n",
       "      <th>chain_1-COVARIABLE</th>\n",
       "      <th>chain_1-MRK</th>\n",
       "      <th>chain_1-M_Pearson</th>\n",
       "      <th>chain_1-SD_Pearson</th>\n",
       "      <th>chain_1-BF(dB)</th>\n",
       "      <th>chain_1-Beta_is</th>\n",
       "      <th>chain_1-SD_Beta_is</th>\n",
       "      <th>chain_1-eBPis</th>\n",
       "      <th>chain_1-env</th>\n",
       "      <th>chain_2-COVARIABLE</th>\n",
       "      <th>chain_2-MRK</th>\n",
       "      <th>chain_2-M_Pearson</th>\n",
       "      <th>chain_2-SD_Pearson</th>\n",
       "      <th>chain_2-BF(dB)</th>\n",
       "      <th>chain_2-Beta_is</th>\n",
       "      <th>chain_2-SD_Beta_is</th>\n",
       "      <th>chain_2-eBPis</th>\n",
       "      <th>chain_2-env</th>\n",
       "      <th>chain_3-COVARIABLE</th>\n",
       "      <th>chain_3-MRK</th>\n",
       "      <th>chain_3-M_Pearson</th>\n",
       "      <th>chain_3-SD_Pearson</th>\n",
       "      <th>chain_3-BF(dB)</th>\n",
       "      <th>chain_3-Beta_is</th>\n",
       "      <th>chain_3-SD_Beta_is</th>\n",
       "      <th>chain_3-eBPis</th>\n",
       "      <th>chain_3-env</th>\n",
       "      <th>chain_4-COVARIABLE</th>\n",
       "      <th>chain_4-MRK</th>\n",
       "      <th>chain_4-M_Pearson</th>\n",
       "      <th>chain_4-SD_Pearson</th>\n",
       "      <th>chain_4-BF(dB)</th>\n",
       "      <th>chain_4-Beta_is</th>\n",
       "      <th>chain_4-SD_Beta_is</th>\n",
       "      <th>chain_4-eBPis</th>\n",
       "      <th>chain_4-env</th>\n",
       "      <th>chain_5-COVARIABLE</th>\n",
       "      <th>chain_5-MRK</th>\n",
       "      <th>chain_5-M_Pearson</th>\n",
       "      <th>chain_5-SD_Pearson</th>\n",
       "      <th>chain_5-BF(dB)</th>\n",
       "      <th>chain_5-Beta_is</th>\n",
       "      <th>chain_5-SD_Beta_is</th>\n",
       "      <th>chain_5-eBPis</th>\n",
       "      <th>chain_5-env</th>\n",
       "      <th>rank_chain_1-BF</th>\n",
       "      <th>rank_chain_2-BF</th>\n",
       "      <th>rank_chain_3-BF</th>\n",
       "      <th>rank_chain_4-BF</th>\n",
       "      <th>rank_chain_5-BF</th>\n",
       "      <th>mean_BF(dB)</th>\n",
       "      <th>rank_mean_BF(dB)</th>\n",
       "      <th>BF(dB)_gte20_for-gte3chains</th>\n",
       "      <th>BF(dB)_gte15_for-gte3chains</th>\n",
       "    </tr>\n",
       "    <tr>\n",
       "      <th></th>\n",
       "      <th></th>\n",
       "      <th></th>\n",
       "      <th></th>\n",
       "      <th></th>\n",
       "      <th></th>\n",
       "      <th></th>\n",
       "      <th></th>\n",
       "      <th></th>\n",
       "      <th></th>\n",
       "      <th></th>\n",
       "      <th></th>\n",
       "      <th></th>\n",
       "      <th></th>\n",
       "      <th></th>\n",
       "      <th></th>\n",
       "      <th></th>\n",
       "      <th></th>\n",
       "      <th></th>\n",
       "      <th></th>\n",
       "      <th></th>\n",
       "      <th></th>\n",
       "      <th></th>\n",
       "      <th></th>\n",
       "      <th></th>\n",
       "      <th></th>\n",
       "      <th></th>\n",
       "      <th></th>\n",
       "      <th></th>\n",
       "      <th></th>\n",
       "      <th></th>\n",
       "      <th></th>\n",
       "      <th></th>\n",
       "      <th></th>\n",
       "      <th></th>\n",
       "      <th></th>\n",
       "      <th></th>\n",
       "      <th></th>\n",
       "      <th></th>\n",
       "      <th></th>\n",
       "      <th></th>\n",
       "      <th></th>\n",
       "      <th></th>\n",
       "      <th></th>\n",
       "      <th></th>\n",
       "      <th></th>\n",
       "      <th></th>\n",
       "      <th></th>\n",
       "      <th></th>\n",
       "      <th></th>\n",
       "      <th></th>\n",
       "      <th></th>\n",
       "      <th></th>\n",
       "      <th></th>\n",
       "      <th></th>\n",
       "    </tr>\n",
       "  </thead>\n",
       "  <tbody>\n",
       "    <tr>\n",
       "      <th>Scaffold_1-15421</th>\n",
       "      <td>2</td>\n",
       "      <td>1</td>\n",
       "      <td>0.051447</td>\n",
       "      <td>0.151095</td>\n",
       "      <td>-9.952499</td>\n",
       "      <td>0.002247</td>\n",
       "      <td>0.006854</td>\n",
       "      <td>0.129004</td>\n",
       "      <td>CMD</td>\n",
       "      <td>2</td>\n",
       "      <td>1</td>\n",
       "      <td>0.057185</td>\n",
       "      <td>0.151341</td>\n",
       "      <td>-10.007640</td>\n",
       "      <td>0.002484</td>\n",
       "      <td>0.006855</td>\n",
       "      <td>0.144454</td>\n",
       "      <td>CMD</td>\n",
       "      <td>2</td>\n",
       "      <td>1</td>\n",
       "      <td>0.052535</td>\n",
       "      <td>0.149798</td>\n",
       "      <td>-10.141194</td>\n",
       "      <td>0.002300</td>\n",
       "      <td>0.006806</td>\n",
       "      <td>0.133442</td>\n",
       "      <td>CMD</td>\n",
       "      <td>2</td>\n",
       "      <td>1</td>\n",
       "      <td>0.054957</td>\n",
       "      <td>0.151121</td>\n",
       "      <td>-9.499320</td>\n",
       "      <td>0.002399</td>\n",
       "      <td>0.006864</td>\n",
       "      <td>0.138625</td>\n",
       "      <td>CMD</td>\n",
       "      <td>2</td>\n",
       "      <td>1</td>\n",
       "      <td>0.051739</td>\n",
       "      <td>0.150198</td>\n",
       "      <td>-7.729909</td>\n",
       "      <td>0.002274</td>\n",
       "      <td>0.006831</td>\n",
       "      <td>0.131230</td>\n",
       "      <td>CMD</td>\n",
       "      <td>347058</td>\n",
       "      <td>354352</td>\n",
       "      <td>372779</td>\n",
       "      <td>296611</td>\n",
       "      <td>174864</td>\n",
       "      <td>-9.466112</td>\n",
       "      <td>293990</td>\n",
       "      <td>False</td>\n",
       "      <td>False</td>\n",
       "    </tr>\n",
       "    <tr>\n",
       "      <th>Scaffold_1-47333</th>\n",
       "      <td>2</td>\n",
       "      <td>2</td>\n",
       "      <td>-0.116514</td>\n",
       "      <td>0.134277</td>\n",
       "      <td>-7.971254</td>\n",
       "      <td>-0.003791</td>\n",
       "      <td>0.004591</td>\n",
       "      <td>0.388304</td>\n",
       "      <td>CMD</td>\n",
       "      <td>2</td>\n",
       "      <td>2</td>\n",
       "      <td>-0.114894</td>\n",
       "      <td>0.133472</td>\n",
       "      <td>-9.897663</td>\n",
       "      <td>-0.003720</td>\n",
       "      <td>0.004525</td>\n",
       "      <td>0.386088</td>\n",
       "      <td>CMD</td>\n",
       "      <td>2</td>\n",
       "      <td>2</td>\n",
       "      <td>-0.118043</td>\n",
       "      <td>0.133207</td>\n",
       "      <td>-9.281454</td>\n",
       "      <td>-0.003852</td>\n",
       "      <td>0.004568</td>\n",
       "      <td>0.398892</td>\n",
       "      <td>CMD</td>\n",
       "      <td>2</td>\n",
       "      <td>2</td>\n",
       "      <td>-0.117554</td>\n",
       "      <td>0.134256</td>\n",
       "      <td>-10.068139</td>\n",
       "      <td>-0.003787</td>\n",
       "      <td>0.004538</td>\n",
       "      <td>0.393662</td>\n",
       "      <td>CMD</td>\n",
       "      <td>2</td>\n",
       "      <td>2</td>\n",
       "      <td>-0.123037</td>\n",
       "      <td>0.134260</td>\n",
       "      <td>-8.657871</td>\n",
       "      <td>-0.003982</td>\n",
       "      <td>0.004549</td>\n",
       "      <td>0.418723</td>\n",
       "      <td>CMD</td>\n",
       "      <td>186650</td>\n",
       "      <td>340473</td>\n",
       "      <td>275990</td>\n",
       "      <td>362908</td>\n",
       "      <td>227446</td>\n",
       "      <td>-9.175276</td>\n",
       "      <td>266255</td>\n",
       "      <td>False</td>\n",
       "      <td>False</td>\n",
       "    </tr>\n",
       "    <tr>\n",
       "      <th>Scaffold_1-47418</th>\n",
       "      <td>2</td>\n",
       "      <td>3</td>\n",
       "      <td>0.081214</td>\n",
       "      <td>0.132238</td>\n",
       "      <td>-10.240492</td>\n",
       "      <td>0.003642</td>\n",
       "      <td>0.005907</td>\n",
       "      <td>0.269548</td>\n",
       "      <td>CMD</td>\n",
       "      <td>2</td>\n",
       "      <td>3</td>\n",
       "      <td>0.081045</td>\n",
       "      <td>0.132341</td>\n",
       "      <td>-9.287821</td>\n",
       "      <td>0.003630</td>\n",
       "      <td>0.005925</td>\n",
       "      <td>0.267479</td>\n",
       "      <td>CMD</td>\n",
       "      <td>2</td>\n",
       "      <td>3</td>\n",
       "      <td>0.079777</td>\n",
       "      <td>0.133714</td>\n",
       "      <td>-10.436700</td>\n",
       "      <td>0.003599</td>\n",
       "      <td>0.006026</td>\n",
       "      <td>0.259344</td>\n",
       "      <td>CMD</td>\n",
       "      <td>2</td>\n",
       "      <td>3</td>\n",
       "      <td>0.084094</td>\n",
       "      <td>0.130357</td>\n",
       "      <td>-10.414719</td>\n",
       "      <td>0.003773</td>\n",
       "      <td>0.005847</td>\n",
       "      <td>0.285065</td>\n",
       "      <td>CMD</td>\n",
       "      <td>2</td>\n",
       "      <td>3</td>\n",
       "      <td>0.082501</td>\n",
       "      <td>0.132830</td>\n",
       "      <td>-9.359020</td>\n",
       "      <td>0.003720</td>\n",
       "      <td>0.005986</td>\n",
       "      <td>0.272233</td>\n",
       "      <td>CMD</td>\n",
       "      <td>386764</td>\n",
       "      <td>276484</td>\n",
       "      <td>419406</td>\n",
       "      <td>415684</td>\n",
       "      <td>282513</td>\n",
       "      <td>-9.947750</td>\n",
       "      <td>350660</td>\n",
       "      <td>False</td>\n",
       "      <td>False</td>\n",
       "    </tr>\n",
       "    <tr>\n",
       "      <th>Scaffold_1-47461</th>\n",
       "      <td>2</td>\n",
       "      <td>4</td>\n",
       "      <td>0.108414</td>\n",
       "      <td>0.130257</td>\n",
       "      <td>-10.625692</td>\n",
       "      <td>0.003586</td>\n",
       "      <td>0.004434</td>\n",
       "      <td>0.378142</td>\n",
       "      <td>CMD</td>\n",
       "      <td>2</td>\n",
       "      <td>4</td>\n",
       "      <td>0.105085</td>\n",
       "      <td>0.129258</td>\n",
       "      <td>-10.184394</td>\n",
       "      <td>0.003507</td>\n",
       "      <td>0.004430</td>\n",
       "      <td>0.368001</td>\n",
       "      <td>CMD</td>\n",
       "      <td>2</td>\n",
       "      <td>4</td>\n",
       "      <td>0.104969</td>\n",
       "      <td>0.129429</td>\n",
       "      <td>-10.151789</td>\n",
       "      <td>0.003489</td>\n",
       "      <td>0.004411</td>\n",
       "      <td>0.367557</td>\n",
       "      <td>CMD</td>\n",
       "      <td>2</td>\n",
       "      <td>4</td>\n",
       "      <td>0.109103</td>\n",
       "      <td>0.129657</td>\n",
       "      <td>-10.394433</td>\n",
       "      <td>0.003645</td>\n",
       "      <td>0.004458</td>\n",
       "      <td>0.383482</td>\n",
       "      <td>CMD</td>\n",
       "      <td>2</td>\n",
       "      <td>4</td>\n",
       "      <td>0.109389</td>\n",
       "      <td>0.129900</td>\n",
       "      <td>-10.122486</td>\n",
       "      <td>0.003652</td>\n",
       "      <td>0.004469</td>\n",
       "      <td>0.383207</td>\n",
       "      <td>CMD</td>\n",
       "      <td>453875</td>\n",
       "      <td>378973</td>\n",
       "      <td>374244</td>\n",
       "      <td>412284</td>\n",
       "      <td>369799</td>\n",
       "      <td>-10.295759</td>\n",
       "      <td>403958</td>\n",
       "      <td>False</td>\n",
       "      <td>False</td>\n",
       "    </tr>\n",
       "    <tr>\n",
       "      <th>Scaffold_1-47513</th>\n",
       "      <td>2</td>\n",
       "      <td>5</td>\n",
       "      <td>0.060725</td>\n",
       "      <td>0.132636</td>\n",
       "      <td>-10.049559</td>\n",
       "      <td>0.003143</td>\n",
       "      <td>0.006919</td>\n",
       "      <td>0.187311</td>\n",
       "      <td>CMD</td>\n",
       "      <td>2</td>\n",
       "      <td>5</td>\n",
       "      <td>0.062573</td>\n",
       "      <td>0.129969</td>\n",
       "      <td>-10.194740</td>\n",
       "      <td>0.003239</td>\n",
       "      <td>0.006785</td>\n",
       "      <td>0.198550</td>\n",
       "      <td>CMD</td>\n",
       "      <td>2</td>\n",
       "      <td>5</td>\n",
       "      <td>0.061090</td>\n",
       "      <td>0.132563</td>\n",
       "      <td>-10.390651</td>\n",
       "      <td>0.003162</td>\n",
       "      <td>0.006900</td>\n",
       "      <td>0.189286</td>\n",
       "      <td>CMD</td>\n",
       "      <td>2</td>\n",
       "      <td>5</td>\n",
       "      <td>0.061317</td>\n",
       "      <td>0.131085</td>\n",
       "      <td>-9.973298</td>\n",
       "      <td>0.003163</td>\n",
       "      <td>0.006828</td>\n",
       "      <td>0.191693</td>\n",
       "      <td>CMD</td>\n",
       "      <td>2</td>\n",
       "      <td>5</td>\n",
       "      <td>0.059041</td>\n",
       "      <td>0.130865</td>\n",
       "      <td>-10.544881</td>\n",
       "      <td>0.003052</td>\n",
       "      <td>0.006823</td>\n",
       "      <td>0.184015</td>\n",
       "      <td>CMD</td>\n",
       "      <td>359755</td>\n",
       "      <td>380512</td>\n",
       "      <td>411543</td>\n",
       "      <td>350290</td>\n",
       "      <td>437837</td>\n",
       "      <td>-10.230626</td>\n",
       "      <td>392911</td>\n",
       "      <td>False</td>\n",
       "      <td>False</td>\n",
       "    </tr>\n",
       "  </tbody>\n",
       "</table>\n",
       "</div>"
      ],
      "text/plain": [
       "                  chain_1-COVARIABLE  chain_1-MRK  chain_1-M_Pearson  \\\n",
       "                                                                       \n",
       "Scaffold_1-15421                   2            1           0.051447   \n",
       "Scaffold_1-47333                   2            2          -0.116514   \n",
       "Scaffold_1-47418                   2            3           0.081214   \n",
       "Scaffold_1-47461                   2            4           0.108414   \n",
       "Scaffold_1-47513                   2            5           0.060725   \n",
       "\n",
       "                  chain_1-SD_Pearson  chain_1-BF(dB)  chain_1-Beta_is  \\\n",
       "                                                                        \n",
       "Scaffold_1-15421            0.151095       -9.952499         0.002247   \n",
       "Scaffold_1-47333            0.134277       -7.971254        -0.003791   \n",
       "Scaffold_1-47418            0.132238      -10.240492         0.003642   \n",
       "Scaffold_1-47461            0.130257      -10.625692         0.003586   \n",
       "Scaffold_1-47513            0.132636      -10.049559         0.003143   \n",
       "\n",
       "                  chain_1-SD_Beta_is  chain_1-eBPis chain_1-env  \\\n",
       "                                                                  \n",
       "Scaffold_1-15421            0.006854       0.129004         CMD   \n",
       "Scaffold_1-47333            0.004591       0.388304         CMD   \n",
       "Scaffold_1-47418            0.005907       0.269548         CMD   \n",
       "Scaffold_1-47461            0.004434       0.378142         CMD   \n",
       "Scaffold_1-47513            0.006919       0.187311         CMD   \n",
       "\n",
       "                  chain_2-COVARIABLE  chain_2-MRK  chain_2-M_Pearson  \\\n",
       "                                                                       \n",
       "Scaffold_1-15421                   2            1           0.057185   \n",
       "Scaffold_1-47333                   2            2          -0.114894   \n",
       "Scaffold_1-47418                   2            3           0.081045   \n",
       "Scaffold_1-47461                   2            4           0.105085   \n",
       "Scaffold_1-47513                   2            5           0.062573   \n",
       "\n",
       "                  chain_2-SD_Pearson  chain_2-BF(dB)  chain_2-Beta_is  \\\n",
       "                                                                        \n",
       "Scaffold_1-15421            0.151341      -10.007640         0.002484   \n",
       "Scaffold_1-47333            0.133472       -9.897663        -0.003720   \n",
       "Scaffold_1-47418            0.132341       -9.287821         0.003630   \n",
       "Scaffold_1-47461            0.129258      -10.184394         0.003507   \n",
       "Scaffold_1-47513            0.129969      -10.194740         0.003239   \n",
       "\n",
       "                  chain_2-SD_Beta_is  chain_2-eBPis chain_2-env  \\\n",
       "                                                                  \n",
       "Scaffold_1-15421            0.006855       0.144454         CMD   \n",
       "Scaffold_1-47333            0.004525       0.386088         CMD   \n",
       "Scaffold_1-47418            0.005925       0.267479         CMD   \n",
       "Scaffold_1-47461            0.004430       0.368001         CMD   \n",
       "Scaffold_1-47513            0.006785       0.198550         CMD   \n",
       "\n",
       "                  chain_3-COVARIABLE  chain_3-MRK  chain_3-M_Pearson  \\\n",
       "                                                                       \n",
       "Scaffold_1-15421                   2            1           0.052535   \n",
       "Scaffold_1-47333                   2            2          -0.118043   \n",
       "Scaffold_1-47418                   2            3           0.079777   \n",
       "Scaffold_1-47461                   2            4           0.104969   \n",
       "Scaffold_1-47513                   2            5           0.061090   \n",
       "\n",
       "                  chain_3-SD_Pearson  chain_3-BF(dB)  chain_3-Beta_is  \\\n",
       "                                                                        \n",
       "Scaffold_1-15421            0.149798      -10.141194         0.002300   \n",
       "Scaffold_1-47333            0.133207       -9.281454        -0.003852   \n",
       "Scaffold_1-47418            0.133714      -10.436700         0.003599   \n",
       "Scaffold_1-47461            0.129429      -10.151789         0.003489   \n",
       "Scaffold_1-47513            0.132563      -10.390651         0.003162   \n",
       "\n",
       "                  chain_3-SD_Beta_is  chain_3-eBPis chain_3-env  \\\n",
       "                                                                  \n",
       "Scaffold_1-15421            0.006806       0.133442         CMD   \n",
       "Scaffold_1-47333            0.004568       0.398892         CMD   \n",
       "Scaffold_1-47418            0.006026       0.259344         CMD   \n",
       "Scaffold_1-47461            0.004411       0.367557         CMD   \n",
       "Scaffold_1-47513            0.006900       0.189286         CMD   \n",
       "\n",
       "                  chain_4-COVARIABLE  chain_4-MRK  chain_4-M_Pearson  \\\n",
       "                                                                       \n",
       "Scaffold_1-15421                   2            1           0.054957   \n",
       "Scaffold_1-47333                   2            2          -0.117554   \n",
       "Scaffold_1-47418                   2            3           0.084094   \n",
       "Scaffold_1-47461                   2            4           0.109103   \n",
       "Scaffold_1-47513                   2            5           0.061317   \n",
       "\n",
       "                  chain_4-SD_Pearson  chain_4-BF(dB)  chain_4-Beta_is  \\\n",
       "                                                                        \n",
       "Scaffold_1-15421            0.151121       -9.499320         0.002399   \n",
       "Scaffold_1-47333            0.134256      -10.068139        -0.003787   \n",
       "Scaffold_1-47418            0.130357      -10.414719         0.003773   \n",
       "Scaffold_1-47461            0.129657      -10.394433         0.003645   \n",
       "Scaffold_1-47513            0.131085       -9.973298         0.003163   \n",
       "\n",
       "                  chain_4-SD_Beta_is  chain_4-eBPis chain_4-env  \\\n",
       "                                                                  \n",
       "Scaffold_1-15421            0.006864       0.138625         CMD   \n",
       "Scaffold_1-47333            0.004538       0.393662         CMD   \n",
       "Scaffold_1-47418            0.005847       0.285065         CMD   \n",
       "Scaffold_1-47461            0.004458       0.383482         CMD   \n",
       "Scaffold_1-47513            0.006828       0.191693         CMD   \n",
       "\n",
       "                  chain_5-COVARIABLE  chain_5-MRK  chain_5-M_Pearson  \\\n",
       "                                                                       \n",
       "Scaffold_1-15421                   2            1           0.051739   \n",
       "Scaffold_1-47333                   2            2          -0.123037   \n",
       "Scaffold_1-47418                   2            3           0.082501   \n",
       "Scaffold_1-47461                   2            4           0.109389   \n",
       "Scaffold_1-47513                   2            5           0.059041   \n",
       "\n",
       "                  chain_5-SD_Pearson  chain_5-BF(dB)  chain_5-Beta_is  \\\n",
       "                                                                        \n",
       "Scaffold_1-15421            0.150198       -7.729909         0.002274   \n",
       "Scaffold_1-47333            0.134260       -8.657871        -0.003982   \n",
       "Scaffold_1-47418            0.132830       -9.359020         0.003720   \n",
       "Scaffold_1-47461            0.129900      -10.122486         0.003652   \n",
       "Scaffold_1-47513            0.130865      -10.544881         0.003052   \n",
       "\n",
       "                  chain_5-SD_Beta_is  chain_5-eBPis chain_5-env  \\\n",
       "                                                                  \n",
       "Scaffold_1-15421            0.006831       0.131230         CMD   \n",
       "Scaffold_1-47333            0.004549       0.418723         CMD   \n",
       "Scaffold_1-47418            0.005986       0.272233         CMD   \n",
       "Scaffold_1-47461            0.004469       0.383207         CMD   \n",
       "Scaffold_1-47513            0.006823       0.184015         CMD   \n",
       "\n",
       "                  rank_chain_1-BF  rank_chain_2-BF  rank_chain_3-BF  \\\n",
       "                                                                      \n",
       "Scaffold_1-15421           347058           354352           372779   \n",
       "Scaffold_1-47333           186650           340473           275990   \n",
       "Scaffold_1-47418           386764           276484           419406   \n",
       "Scaffold_1-47461           453875           378973           374244   \n",
       "Scaffold_1-47513           359755           380512           411543   \n",
       "\n",
       "                  rank_chain_4-BF  rank_chain_5-BF  mean_BF(dB)  \\\n",
       "                                                                  \n",
       "Scaffold_1-15421           296611           174864    -9.466112   \n",
       "Scaffold_1-47333           362908           227446    -9.175276   \n",
       "Scaffold_1-47418           415684           282513    -9.947750   \n",
       "Scaffold_1-47461           412284           369799   -10.295759   \n",
       "Scaffold_1-47513           350290           437837   -10.230626   \n",
       "\n",
       "                  rank_mean_BF(dB)  BF(dB)_gte20_for-gte3chains  \\\n",
       "                                                                  \n",
       "Scaffold_1-15421            293990                        False   \n",
       "Scaffold_1-47333            266255                        False   \n",
       "Scaffold_1-47418            350660                        False   \n",
       "Scaffold_1-47461            403958                        False   \n",
       "Scaffold_1-47513            392911                        False   \n",
       "\n",
       "                  BF(dB)_gte15_for-gte3chains  \n",
       "                                               \n",
       "Scaffold_1-15421                        False  \n",
       "Scaffold_1-47333                        False  \n",
       "Scaffold_1-47418                        False  \n",
       "Scaffold_1-47461                        False  \n",
       "Scaffold_1-47513                        False  "
      ]
     },
     "execution_count": 18,
     "metadata": {},
     "output_type": "execute_result"
    }
   ],
   "source": [
    "# add in the new columns\n",
    "count = 0\n",
    "for env,df in envdfs.items():\n",
    "    update([count, env])\n",
    "    # keep original columns with chain info only\n",
    "    startcols = [col for col in df.columns if col.startswith('chain')]\n",
    "    assert len(bfcols) == 5\n",
    "    # grab the re-ranked columns\n",
    "    newcols = [col for col in new_envdfs[env].columns if col not in startcols]\n",
    "    envdfs[env] = pd.merge(df[startcols], new_envdfs[env][newcols], right_index=True, left_index=True)\n",
    "    count += 1\n",
    "envdfs[env].head()"
   ]
  },
  {
   "cell_type": "code",
   "execution_count": 19,
   "metadata": {},
   "outputs": [
    {
     "data": {
      "text/html": [
       "<div>\n",
       "<style scoped>\n",
       "    .dataframe tbody tr th:only-of-type {\n",
       "        vertical-align: middle;\n",
       "    }\n",
       "\n",
       "    .dataframe tbody tr th {\n",
       "        vertical-align: top;\n",
       "    }\n",
       "\n",
       "    .dataframe thead th {\n",
       "        text-align: right;\n",
       "    }\n",
       "</style>\n",
       "<table border=\"1\" class=\"dataframe\">\n",
       "  <thead>\n",
       "    <tr style=\"text-align: right;\">\n",
       "      <th></th>\n",
       "      <th>chain_1-COVARIABLE</th>\n",
       "      <th>chain_1-MRK</th>\n",
       "      <th>chain_1-M_Pearson</th>\n",
       "      <th>chain_1-SD_Pearson</th>\n",
       "      <th>chain_1-BF(dB)</th>\n",
       "      <th>chain_1-Beta_is</th>\n",
       "      <th>chain_1-SD_Beta_is</th>\n",
       "      <th>chain_1-eBPis</th>\n",
       "      <th>chain_1-env</th>\n",
       "      <th>chain_2-COVARIABLE</th>\n",
       "      <th>chain_2-MRK</th>\n",
       "      <th>chain_2-M_Pearson</th>\n",
       "      <th>chain_2-SD_Pearson</th>\n",
       "      <th>chain_2-BF(dB)</th>\n",
       "      <th>chain_2-Beta_is</th>\n",
       "      <th>chain_2-SD_Beta_is</th>\n",
       "      <th>chain_2-eBPis</th>\n",
       "      <th>chain_2-env</th>\n",
       "      <th>chain_3-COVARIABLE</th>\n",
       "      <th>chain_3-MRK</th>\n",
       "      <th>chain_3-M_Pearson</th>\n",
       "      <th>chain_3-SD_Pearson</th>\n",
       "      <th>chain_3-BF(dB)</th>\n",
       "      <th>chain_3-Beta_is</th>\n",
       "      <th>chain_3-SD_Beta_is</th>\n",
       "      <th>chain_3-eBPis</th>\n",
       "      <th>chain_3-env</th>\n",
       "      <th>chain_4-COVARIABLE</th>\n",
       "      <th>chain_4-MRK</th>\n",
       "      <th>chain_4-M_Pearson</th>\n",
       "      <th>chain_4-SD_Pearson</th>\n",
       "      <th>chain_4-BF(dB)</th>\n",
       "      <th>chain_4-Beta_is</th>\n",
       "      <th>chain_4-SD_Beta_is</th>\n",
       "      <th>chain_4-eBPis</th>\n",
       "      <th>chain_4-env</th>\n",
       "      <th>chain_5-COVARIABLE</th>\n",
       "      <th>chain_5-MRK</th>\n",
       "      <th>chain_5-M_Pearson</th>\n",
       "      <th>chain_5-SD_Pearson</th>\n",
       "      <th>chain_5-BF(dB)</th>\n",
       "      <th>chain_5-Beta_is</th>\n",
       "      <th>chain_5-SD_Beta_is</th>\n",
       "      <th>chain_5-eBPis</th>\n",
       "      <th>chain_5-env</th>\n",
       "      <th>rank_chain_1-BF</th>\n",
       "      <th>rank_chain_2-BF</th>\n",
       "      <th>rank_chain_3-BF</th>\n",
       "      <th>rank_chain_4-BF</th>\n",
       "      <th>rank_chain_5-BF</th>\n",
       "      <th>mean_BF(dB)</th>\n",
       "      <th>rank_mean_BF(dB)</th>\n",
       "      <th>BF(dB)_gte20_for-gte3chains</th>\n",
       "      <th>BF(dB)_gte15_for-gte3chains</th>\n",
       "      <th>rank_consistency_top1perc_for-gte3chains</th>\n",
       "    </tr>\n",
       "    <tr>\n",
       "      <th></th>\n",
       "      <th></th>\n",
       "      <th></th>\n",
       "      <th></th>\n",
       "      <th></th>\n",
       "      <th></th>\n",
       "      <th></th>\n",
       "      <th></th>\n",
       "      <th></th>\n",
       "      <th></th>\n",
       "      <th></th>\n",
       "      <th></th>\n",
       "      <th></th>\n",
       "      <th></th>\n",
       "      <th></th>\n",
       "      <th></th>\n",
       "      <th></th>\n",
       "      <th></th>\n",
       "      <th></th>\n",
       "      <th></th>\n",
       "      <th></th>\n",
       "      <th></th>\n",
       "      <th></th>\n",
       "      <th></th>\n",
       "      <th></th>\n",
       "      <th></th>\n",
       "      <th></th>\n",
       "      <th></th>\n",
       "      <th></th>\n",
       "      <th></th>\n",
       "      <th></th>\n",
       "      <th></th>\n",
       "      <th></th>\n",
       "      <th></th>\n",
       "      <th></th>\n",
       "      <th></th>\n",
       "      <th></th>\n",
       "      <th></th>\n",
       "      <th></th>\n",
       "      <th></th>\n",
       "      <th></th>\n",
       "      <th></th>\n",
       "      <th></th>\n",
       "      <th></th>\n",
       "      <th></th>\n",
       "      <th></th>\n",
       "      <th></th>\n",
       "      <th></th>\n",
       "      <th></th>\n",
       "      <th></th>\n",
       "      <th></th>\n",
       "      <th></th>\n",
       "      <th></th>\n",
       "      <th></th>\n",
       "      <th></th>\n",
       "      <th></th>\n",
       "    </tr>\n",
       "  </thead>\n",
       "  <tbody>\n",
       "    <tr>\n",
       "      <th>Scaffold_1-15421</th>\n",
       "      <td>2</td>\n",
       "      <td>1</td>\n",
       "      <td>0.051447</td>\n",
       "      <td>0.151095</td>\n",
       "      <td>-9.952499</td>\n",
       "      <td>0.002247</td>\n",
       "      <td>0.006854</td>\n",
       "      <td>0.129004</td>\n",
       "      <td>CMD</td>\n",
       "      <td>2</td>\n",
       "      <td>1</td>\n",
       "      <td>0.057185</td>\n",
       "      <td>0.151341</td>\n",
       "      <td>-10.007640</td>\n",
       "      <td>0.002484</td>\n",
       "      <td>0.006855</td>\n",
       "      <td>0.144454</td>\n",
       "      <td>CMD</td>\n",
       "      <td>2</td>\n",
       "      <td>1</td>\n",
       "      <td>0.052535</td>\n",
       "      <td>0.149798</td>\n",
       "      <td>-10.141194</td>\n",
       "      <td>0.002300</td>\n",
       "      <td>0.006806</td>\n",
       "      <td>0.133442</td>\n",
       "      <td>CMD</td>\n",
       "      <td>2</td>\n",
       "      <td>1</td>\n",
       "      <td>0.054957</td>\n",
       "      <td>0.151121</td>\n",
       "      <td>-9.499320</td>\n",
       "      <td>0.002399</td>\n",
       "      <td>0.006864</td>\n",
       "      <td>0.138625</td>\n",
       "      <td>CMD</td>\n",
       "      <td>2</td>\n",
       "      <td>1</td>\n",
       "      <td>0.051739</td>\n",
       "      <td>0.150198</td>\n",
       "      <td>-7.729909</td>\n",
       "      <td>0.002274</td>\n",
       "      <td>0.006831</td>\n",
       "      <td>0.131230</td>\n",
       "      <td>CMD</td>\n",
       "      <td>347058</td>\n",
       "      <td>354352</td>\n",
       "      <td>372779</td>\n",
       "      <td>296611</td>\n",
       "      <td>174864</td>\n",
       "      <td>-9.466112</td>\n",
       "      <td>293990</td>\n",
       "      <td>False</td>\n",
       "      <td>False</td>\n",
       "      <td>False</td>\n",
       "    </tr>\n",
       "    <tr>\n",
       "      <th>Scaffold_1-47333</th>\n",
       "      <td>2</td>\n",
       "      <td>2</td>\n",
       "      <td>-0.116514</td>\n",
       "      <td>0.134277</td>\n",
       "      <td>-7.971254</td>\n",
       "      <td>-0.003791</td>\n",
       "      <td>0.004591</td>\n",
       "      <td>0.388304</td>\n",
       "      <td>CMD</td>\n",
       "      <td>2</td>\n",
       "      <td>2</td>\n",
       "      <td>-0.114894</td>\n",
       "      <td>0.133472</td>\n",
       "      <td>-9.897663</td>\n",
       "      <td>-0.003720</td>\n",
       "      <td>0.004525</td>\n",
       "      <td>0.386088</td>\n",
       "      <td>CMD</td>\n",
       "      <td>2</td>\n",
       "      <td>2</td>\n",
       "      <td>-0.118043</td>\n",
       "      <td>0.133207</td>\n",
       "      <td>-9.281454</td>\n",
       "      <td>-0.003852</td>\n",
       "      <td>0.004568</td>\n",
       "      <td>0.398892</td>\n",
       "      <td>CMD</td>\n",
       "      <td>2</td>\n",
       "      <td>2</td>\n",
       "      <td>-0.117554</td>\n",
       "      <td>0.134256</td>\n",
       "      <td>-10.068139</td>\n",
       "      <td>-0.003787</td>\n",
       "      <td>0.004538</td>\n",
       "      <td>0.393662</td>\n",
       "      <td>CMD</td>\n",
       "      <td>2</td>\n",
       "      <td>2</td>\n",
       "      <td>-0.123037</td>\n",
       "      <td>0.134260</td>\n",
       "      <td>-8.657871</td>\n",
       "      <td>-0.003982</td>\n",
       "      <td>0.004549</td>\n",
       "      <td>0.418723</td>\n",
       "      <td>CMD</td>\n",
       "      <td>186650</td>\n",
       "      <td>340473</td>\n",
       "      <td>275990</td>\n",
       "      <td>362908</td>\n",
       "      <td>227446</td>\n",
       "      <td>-9.175276</td>\n",
       "      <td>266255</td>\n",
       "      <td>False</td>\n",
       "      <td>False</td>\n",
       "      <td>False</td>\n",
       "    </tr>\n",
       "    <tr>\n",
       "      <th>Scaffold_1-47418</th>\n",
       "      <td>2</td>\n",
       "      <td>3</td>\n",
       "      <td>0.081214</td>\n",
       "      <td>0.132238</td>\n",
       "      <td>-10.240492</td>\n",
       "      <td>0.003642</td>\n",
       "      <td>0.005907</td>\n",
       "      <td>0.269548</td>\n",
       "      <td>CMD</td>\n",
       "      <td>2</td>\n",
       "      <td>3</td>\n",
       "      <td>0.081045</td>\n",
       "      <td>0.132341</td>\n",
       "      <td>-9.287821</td>\n",
       "      <td>0.003630</td>\n",
       "      <td>0.005925</td>\n",
       "      <td>0.267479</td>\n",
       "      <td>CMD</td>\n",
       "      <td>2</td>\n",
       "      <td>3</td>\n",
       "      <td>0.079777</td>\n",
       "      <td>0.133714</td>\n",
       "      <td>-10.436700</td>\n",
       "      <td>0.003599</td>\n",
       "      <td>0.006026</td>\n",
       "      <td>0.259344</td>\n",
       "      <td>CMD</td>\n",
       "      <td>2</td>\n",
       "      <td>3</td>\n",
       "      <td>0.084094</td>\n",
       "      <td>0.130357</td>\n",
       "      <td>-10.414719</td>\n",
       "      <td>0.003773</td>\n",
       "      <td>0.005847</td>\n",
       "      <td>0.285065</td>\n",
       "      <td>CMD</td>\n",
       "      <td>2</td>\n",
       "      <td>3</td>\n",
       "      <td>0.082501</td>\n",
       "      <td>0.132830</td>\n",
       "      <td>-9.359020</td>\n",
       "      <td>0.003720</td>\n",
       "      <td>0.005986</td>\n",
       "      <td>0.272233</td>\n",
       "      <td>CMD</td>\n",
       "      <td>386764</td>\n",
       "      <td>276484</td>\n",
       "      <td>419406</td>\n",
       "      <td>415684</td>\n",
       "      <td>282513</td>\n",
       "      <td>-9.947750</td>\n",
       "      <td>350660</td>\n",
       "      <td>False</td>\n",
       "      <td>False</td>\n",
       "      <td>False</td>\n",
       "    </tr>\n",
       "    <tr>\n",
       "      <th>Scaffold_1-47461</th>\n",
       "      <td>2</td>\n",
       "      <td>4</td>\n",
       "      <td>0.108414</td>\n",
       "      <td>0.130257</td>\n",
       "      <td>-10.625692</td>\n",
       "      <td>0.003586</td>\n",
       "      <td>0.004434</td>\n",
       "      <td>0.378142</td>\n",
       "      <td>CMD</td>\n",
       "      <td>2</td>\n",
       "      <td>4</td>\n",
       "      <td>0.105085</td>\n",
       "      <td>0.129258</td>\n",
       "      <td>-10.184394</td>\n",
       "      <td>0.003507</td>\n",
       "      <td>0.004430</td>\n",
       "      <td>0.368001</td>\n",
       "      <td>CMD</td>\n",
       "      <td>2</td>\n",
       "      <td>4</td>\n",
       "      <td>0.104969</td>\n",
       "      <td>0.129429</td>\n",
       "      <td>-10.151789</td>\n",
       "      <td>0.003489</td>\n",
       "      <td>0.004411</td>\n",
       "      <td>0.367557</td>\n",
       "      <td>CMD</td>\n",
       "      <td>2</td>\n",
       "      <td>4</td>\n",
       "      <td>0.109103</td>\n",
       "      <td>0.129657</td>\n",
       "      <td>-10.394433</td>\n",
       "      <td>0.003645</td>\n",
       "      <td>0.004458</td>\n",
       "      <td>0.383482</td>\n",
       "      <td>CMD</td>\n",
       "      <td>2</td>\n",
       "      <td>4</td>\n",
       "      <td>0.109389</td>\n",
       "      <td>0.129900</td>\n",
       "      <td>-10.122486</td>\n",
       "      <td>0.003652</td>\n",
       "      <td>0.004469</td>\n",
       "      <td>0.383207</td>\n",
       "      <td>CMD</td>\n",
       "      <td>453875</td>\n",
       "      <td>378973</td>\n",
       "      <td>374244</td>\n",
       "      <td>412284</td>\n",
       "      <td>369799</td>\n",
       "      <td>-10.295759</td>\n",
       "      <td>403958</td>\n",
       "      <td>False</td>\n",
       "      <td>False</td>\n",
       "      <td>False</td>\n",
       "    </tr>\n",
       "    <tr>\n",
       "      <th>Scaffold_1-47513</th>\n",
       "      <td>2</td>\n",
       "      <td>5</td>\n",
       "      <td>0.060725</td>\n",
       "      <td>0.132636</td>\n",
       "      <td>-10.049559</td>\n",
       "      <td>0.003143</td>\n",
       "      <td>0.006919</td>\n",
       "      <td>0.187311</td>\n",
       "      <td>CMD</td>\n",
       "      <td>2</td>\n",
       "      <td>5</td>\n",
       "      <td>0.062573</td>\n",
       "      <td>0.129969</td>\n",
       "      <td>-10.194740</td>\n",
       "      <td>0.003239</td>\n",
       "      <td>0.006785</td>\n",
       "      <td>0.198550</td>\n",
       "      <td>CMD</td>\n",
       "      <td>2</td>\n",
       "      <td>5</td>\n",
       "      <td>0.061090</td>\n",
       "      <td>0.132563</td>\n",
       "      <td>-10.390651</td>\n",
       "      <td>0.003162</td>\n",
       "      <td>0.006900</td>\n",
       "      <td>0.189286</td>\n",
       "      <td>CMD</td>\n",
       "      <td>2</td>\n",
       "      <td>5</td>\n",
       "      <td>0.061317</td>\n",
       "      <td>0.131085</td>\n",
       "      <td>-9.973298</td>\n",
       "      <td>0.003163</td>\n",
       "      <td>0.006828</td>\n",
       "      <td>0.191693</td>\n",
       "      <td>CMD</td>\n",
       "      <td>2</td>\n",
       "      <td>5</td>\n",
       "      <td>0.059041</td>\n",
       "      <td>0.130865</td>\n",
       "      <td>-10.544881</td>\n",
       "      <td>0.003052</td>\n",
       "      <td>0.006823</td>\n",
       "      <td>0.184015</td>\n",
       "      <td>CMD</td>\n",
       "      <td>359755</td>\n",
       "      <td>380512</td>\n",
       "      <td>411543</td>\n",
       "      <td>350290</td>\n",
       "      <td>437837</td>\n",
       "      <td>-10.230626</td>\n",
       "      <td>392911</td>\n",
       "      <td>False</td>\n",
       "      <td>False</td>\n",
       "      <td>False</td>\n",
       "    </tr>\n",
       "  </tbody>\n",
       "</table>\n",
       "</div>"
      ],
      "text/plain": [
       "                  chain_1-COVARIABLE  chain_1-MRK  chain_1-M_Pearson  \\\n",
       "                                                                       \n",
       "Scaffold_1-15421                   2            1           0.051447   \n",
       "Scaffold_1-47333                   2            2          -0.116514   \n",
       "Scaffold_1-47418                   2            3           0.081214   \n",
       "Scaffold_1-47461                   2            4           0.108414   \n",
       "Scaffold_1-47513                   2            5           0.060725   \n",
       "\n",
       "                  chain_1-SD_Pearson  chain_1-BF(dB)  chain_1-Beta_is  \\\n",
       "                                                                        \n",
       "Scaffold_1-15421            0.151095       -9.952499         0.002247   \n",
       "Scaffold_1-47333            0.134277       -7.971254        -0.003791   \n",
       "Scaffold_1-47418            0.132238      -10.240492         0.003642   \n",
       "Scaffold_1-47461            0.130257      -10.625692         0.003586   \n",
       "Scaffold_1-47513            0.132636      -10.049559         0.003143   \n",
       "\n",
       "                  chain_1-SD_Beta_is  chain_1-eBPis chain_1-env  \\\n",
       "                                                                  \n",
       "Scaffold_1-15421            0.006854       0.129004         CMD   \n",
       "Scaffold_1-47333            0.004591       0.388304         CMD   \n",
       "Scaffold_1-47418            0.005907       0.269548         CMD   \n",
       "Scaffold_1-47461            0.004434       0.378142         CMD   \n",
       "Scaffold_1-47513            0.006919       0.187311         CMD   \n",
       "\n",
       "                  chain_2-COVARIABLE  chain_2-MRK  chain_2-M_Pearson  \\\n",
       "                                                                       \n",
       "Scaffold_1-15421                   2            1           0.057185   \n",
       "Scaffold_1-47333                   2            2          -0.114894   \n",
       "Scaffold_1-47418                   2            3           0.081045   \n",
       "Scaffold_1-47461                   2            4           0.105085   \n",
       "Scaffold_1-47513                   2            5           0.062573   \n",
       "\n",
       "                  chain_2-SD_Pearson  chain_2-BF(dB)  chain_2-Beta_is  \\\n",
       "                                                                        \n",
       "Scaffold_1-15421            0.151341      -10.007640         0.002484   \n",
       "Scaffold_1-47333            0.133472       -9.897663        -0.003720   \n",
       "Scaffold_1-47418            0.132341       -9.287821         0.003630   \n",
       "Scaffold_1-47461            0.129258      -10.184394         0.003507   \n",
       "Scaffold_1-47513            0.129969      -10.194740         0.003239   \n",
       "\n",
       "                  chain_2-SD_Beta_is  chain_2-eBPis chain_2-env  \\\n",
       "                                                                  \n",
       "Scaffold_1-15421            0.006855       0.144454         CMD   \n",
       "Scaffold_1-47333            0.004525       0.386088         CMD   \n",
       "Scaffold_1-47418            0.005925       0.267479         CMD   \n",
       "Scaffold_1-47461            0.004430       0.368001         CMD   \n",
       "Scaffold_1-47513            0.006785       0.198550         CMD   \n",
       "\n",
       "                  chain_3-COVARIABLE  chain_3-MRK  chain_3-M_Pearson  \\\n",
       "                                                                       \n",
       "Scaffold_1-15421                   2            1           0.052535   \n",
       "Scaffold_1-47333                   2            2          -0.118043   \n",
       "Scaffold_1-47418                   2            3           0.079777   \n",
       "Scaffold_1-47461                   2            4           0.104969   \n",
       "Scaffold_1-47513                   2            5           0.061090   \n",
       "\n",
       "                  chain_3-SD_Pearson  chain_3-BF(dB)  chain_3-Beta_is  \\\n",
       "                                                                        \n",
       "Scaffold_1-15421            0.149798      -10.141194         0.002300   \n",
       "Scaffold_1-47333            0.133207       -9.281454        -0.003852   \n",
       "Scaffold_1-47418            0.133714      -10.436700         0.003599   \n",
       "Scaffold_1-47461            0.129429      -10.151789         0.003489   \n",
       "Scaffold_1-47513            0.132563      -10.390651         0.003162   \n",
       "\n",
       "                  chain_3-SD_Beta_is  chain_3-eBPis chain_3-env  \\\n",
       "                                                                  \n",
       "Scaffold_1-15421            0.006806       0.133442         CMD   \n",
       "Scaffold_1-47333            0.004568       0.398892         CMD   \n",
       "Scaffold_1-47418            0.006026       0.259344         CMD   \n",
       "Scaffold_1-47461            0.004411       0.367557         CMD   \n",
       "Scaffold_1-47513            0.006900       0.189286         CMD   \n",
       "\n",
       "                  chain_4-COVARIABLE  chain_4-MRK  chain_4-M_Pearson  \\\n",
       "                                                                       \n",
       "Scaffold_1-15421                   2            1           0.054957   \n",
       "Scaffold_1-47333                   2            2          -0.117554   \n",
       "Scaffold_1-47418                   2            3           0.084094   \n",
       "Scaffold_1-47461                   2            4           0.109103   \n",
       "Scaffold_1-47513                   2            5           0.061317   \n",
       "\n",
       "                  chain_4-SD_Pearson  chain_4-BF(dB)  chain_4-Beta_is  \\\n",
       "                                                                        \n",
       "Scaffold_1-15421            0.151121       -9.499320         0.002399   \n",
       "Scaffold_1-47333            0.134256      -10.068139        -0.003787   \n",
       "Scaffold_1-47418            0.130357      -10.414719         0.003773   \n",
       "Scaffold_1-47461            0.129657      -10.394433         0.003645   \n",
       "Scaffold_1-47513            0.131085       -9.973298         0.003163   \n",
       "\n",
       "                  chain_4-SD_Beta_is  chain_4-eBPis chain_4-env  \\\n",
       "                                                                  \n",
       "Scaffold_1-15421            0.006864       0.138625         CMD   \n",
       "Scaffold_1-47333            0.004538       0.393662         CMD   \n",
       "Scaffold_1-47418            0.005847       0.285065         CMD   \n",
       "Scaffold_1-47461            0.004458       0.383482         CMD   \n",
       "Scaffold_1-47513            0.006828       0.191693         CMD   \n",
       "\n",
       "                  chain_5-COVARIABLE  chain_5-MRK  chain_5-M_Pearson  \\\n",
       "                                                                       \n",
       "Scaffold_1-15421                   2            1           0.051739   \n",
       "Scaffold_1-47333                   2            2          -0.123037   \n",
       "Scaffold_1-47418                   2            3           0.082501   \n",
       "Scaffold_1-47461                   2            4           0.109389   \n",
       "Scaffold_1-47513                   2            5           0.059041   \n",
       "\n",
       "                  chain_5-SD_Pearson  chain_5-BF(dB)  chain_5-Beta_is  \\\n",
       "                                                                        \n",
       "Scaffold_1-15421            0.150198       -7.729909         0.002274   \n",
       "Scaffold_1-47333            0.134260       -8.657871        -0.003982   \n",
       "Scaffold_1-47418            0.132830       -9.359020         0.003720   \n",
       "Scaffold_1-47461            0.129900      -10.122486         0.003652   \n",
       "Scaffold_1-47513            0.130865      -10.544881         0.003052   \n",
       "\n",
       "                  chain_5-SD_Beta_is  chain_5-eBPis chain_5-env  \\\n",
       "                                                                  \n",
       "Scaffold_1-15421            0.006831       0.131230         CMD   \n",
       "Scaffold_1-47333            0.004549       0.418723         CMD   \n",
       "Scaffold_1-47418            0.005986       0.272233         CMD   \n",
       "Scaffold_1-47461            0.004469       0.383207         CMD   \n",
       "Scaffold_1-47513            0.006823       0.184015         CMD   \n",
       "\n",
       "                  rank_chain_1-BF  rank_chain_2-BF  rank_chain_3-BF  \\\n",
       "                                                                      \n",
       "Scaffold_1-15421           347058           354352           372779   \n",
       "Scaffold_1-47333           186650           340473           275990   \n",
       "Scaffold_1-47418           386764           276484           419406   \n",
       "Scaffold_1-47461           453875           378973           374244   \n",
       "Scaffold_1-47513           359755           380512           411543   \n",
       "\n",
       "                  rank_chain_4-BF  rank_chain_5-BF  mean_BF(dB)  \\\n",
       "                                                                  \n",
       "Scaffold_1-15421           296611           174864    -9.466112   \n",
       "Scaffold_1-47333           362908           227446    -9.175276   \n",
       "Scaffold_1-47418           415684           282513    -9.947750   \n",
       "Scaffold_1-47461           412284           369799   -10.295759   \n",
       "Scaffold_1-47513           350290           437837   -10.230626   \n",
       "\n",
       "                  rank_mean_BF(dB)  BF(dB)_gte20_for-gte3chains  \\\n",
       "                                                                  \n",
       "Scaffold_1-15421            293990                        False   \n",
       "Scaffold_1-47333            266255                        False   \n",
       "Scaffold_1-47418            350660                        False   \n",
       "Scaffold_1-47461            403958                        False   \n",
       "Scaffold_1-47513            392911                        False   \n",
       "\n",
       "                  BF(dB)_gte15_for-gte3chains  \\\n",
       "                                                \n",
       "Scaffold_1-15421                        False   \n",
       "Scaffold_1-47333                        False   \n",
       "Scaffold_1-47418                        False   \n",
       "Scaffold_1-47461                        False   \n",
       "Scaffold_1-47513                        False   \n",
       "\n",
       "                  rank_consistency_top1perc_for-gte3chains  \n",
       "                                                            \n",
       "Scaffold_1-15421                                     False  \n",
       "Scaffold_1-47333                                     False  \n",
       "Scaffold_1-47418                                     False  \n",
       "Scaffold_1-47461                                     False  \n",
       "Scaffold_1-47513                                     False  "
      ]
     },
     "execution_count": 19,
     "metadata": {},
     "output_type": "execute_result"
    }
   ],
   "source": [
    "# add column for rank consistency (True if SNP is ranked in top 1% for >= 3 chains)\n",
    "# also add a column for mean_BF >= 20\n",
    "for env,df in envdfs.items():\n",
    "    oneperc = math.ceil(0.01*nrow(df))\n",
    "    rankcols = [col for col in df if 'rank_chain' in col]\n",
    "    envdfs[env]['rank_consistency_top1perc_for-gte3chains'] = (df[rankcols] < oneperc).sum(axis=1) >= 3\n",
    "envdfs[env].head()"
   ]
  },
  {
   "cell_type": "code",
   "execution_count": 20,
   "metadata": {},
   "outputs": [
    {
     "name": "stderr",
     "output_type": "stream",
     "text": [
      "AHM: 100%|██████████| 55/55 [00:02<00:00, 25.00it/s] \n",
      "NFFD: 100%|██████████| 55/55 [00:02<00:00, 24.65it/s] \n",
      "PAS: 100%|██████████| 55/55 [00:02<00:00, 24.98it/s] \n",
      "SHM: 100%|██████████| 55/55 [00:02<00:00, 25.22it/s] \n",
      "MAT: 100%|██████████| 55/55 [00:02<00:00, 25.21it/s] \n",
      "MAP: 100%|██████████| 55/55 [00:02<00:00, 25.36it/s] \n",
      "FFP: 100%|██████████| 55/55 [00:02<00:00, 25.20it/s] \n",
      "MWMT: 100%|██████████| 55/55 [00:02<00:00, 25.43it/s] \n",
      "EMT: 100%|██████████| 55/55 [00:02<00:00, 25.42it/s] \n",
      "EXT: 100%|██████████| 55/55 [00:02<00:00, 25.05it/s] \n",
      "DD_0: 100%|██████████| 55/55 [00:02<00:00, 25.44it/s] \n",
      "Eref: 100%|██████████| 55/55 [00:02<00:00, 24.12it/s] \n",
      "eFFP: 100%|██████████| 55/55 [00:02<00:00, 24.87it/s] \n",
      "MCMT: 100%|██████████| 55/55 [00:02<00:00, 22.34it/s] \n",
      "DD5: 100%|██████████| 55/55 [00:02<00:00, 22.02it/s] \n",
      "TD: 100%|██████████| 55/55 [00:02<00:00, 21.88it/s] \n",
      "bFFP: 100%|██████████| 55/55 [00:02<00:00, 22.02it/s] \n",
      "MSP: 100%|██████████| 55/55 [00:02<00:00, 22.11it/s] \n",
      "CMD: 100%|██████████| 55/55 [00:02<00:00, 22.08it/s] \n"
     ]
    }
   ],
   "source": [
    "# make sure that there are no ranks repeated\n",
    "for env,df in envdfs.items():\n",
    "    for col in nb(df.columns, desc=env):\n",
    "        if col.startswith('rank') and 'consistency' not in col:\n",
    "            assert nrow(df) == luni(df[col])"
   ]
  },
  {
   "cell_type": "code",
   "execution_count": 21,
   "metadata": {},
   "outputs": [],
   "source": [
    "def write_file(df, file, sep='\\t', index=False):\n",
    "    import pandas\n",
    "    df['locus'] = df.index.tolist()\n",
    "    df = df[['locus'] + [col for col in df.columns if col != 'locus']]\n",
    "    df.to_csv(file, sep=sep, index=index)\n",
    "    return file"
   ]
  },
  {
   "cell_type": "code",
   "execution_count": 22,
   "metadata": {},
   "outputs": [
    {
     "data": {
      "text/plain": [
       "'/data/projects/pool_seq/pangenome/JP_pangenome/JP_pooled/snpsANDindels/03_maf-p05_RD-recalculated/baypass/final_results'"
      ]
     },
     "execution_count": 22,
     "metadata": {},
     "output_type": "execute_result"
    }
   ],
   "source": [
    "finaldir = makedir(op.join(baydir, 'final_results'))\n",
    "finaldir"
   ]
  },
  {
   "cell_type": "code",
   "execution_count": 23,
   "metadata": {},
   "outputs": [
    {
     "name": "stdout",
     "output_type": "stream",
     "text": [
      "\u001b[1m\n",
      "Watching 19 final jobs ...\u001b[0m\n"
     ]
    },
    {
     "name": "stderr",
     "output_type": "stream",
     "text": [
      "final: 100%|██████████| 19/19 [01:34<00:00,  4.99s/it]\n"
     ]
    }
   ],
   "source": [
    "# save files\n",
    "jobs = []\n",
    "for env,df in envdfs.items():\n",
    "    file = op.join(finaldir, f'maf-p05_RD-recalculated_ADP-lt-1000_{env}.txt')\n",
    "    jobs.append(lview.apply_async(write_file, *(df, file)))\n",
    "watch_async(jobs, phase='final')"
   ]
  },
  {
   "cell_type": "code",
   "execution_count": 24,
   "metadata": {},
   "outputs": [],
   "source": [
    "# save pkl for easy loading\n",
    "pkldump(envdfs, op.join(finaldir, 'envdfs_after_ranking.pkl'))"
   ]
  },
  {
   "cell_type": "code",
   "execution_count": 25,
   "metadata": {},
   "outputs": [
    {
     "name": "stdout",
     "output_type": "stream",
     "text": [
      "\u001b[92m\u001b[1mJack pine\n",
      "\u001b[0m\u001b[0m\n",
      "Env   BFConsistent20  BFConsistent15  BFMean20\t  BFMean15   BFMean13  \tRankConsistent\n",
      "AHM \t 742 \t\t 1606 \t\t 832 \t    1793 \t 2540 \t 9106\n",
      "CMD \t 621 \t\t 1338 \t\t 707 \t    1520 \t 2148 \t 9060\n",
      "DD5 \t 8851 \t\t 12110 \t\t 9321 \t    12751 \t 14503 \t 11418\n",
      "DD_0 \t 11581 \t\t 15596 \t\t 12053 \t    16410 \t 18948 \t 11478\n",
      "EMT \t 9268 \t\t 12587 \t\t 9675 \t    13235 \t 15263 \t 11305\n",
      "EXT \t 213 \t\t 507 \t\t 235 \t    583 \t 858 \t 8176\n",
      "Eref \t 9521 \t\t 12929 \t\t 9975 \t    13476 \t 15287 \t 11532\n",
      "FFP \t 5202 \t\t 7878 \t\t 5556 \t    8396 \t 9891 \t 10982\n",
      "MAP \t 8516 \t\t 14073 \t\t 9143 \t    15043 \t 18486 \t 10906\n",
      "MAT \t 12326 \t\t 16369 \t\t 12911 \t    17052 \t 19301 \t 11588\n",
      "MCMT \t 12339 \t\t 16664 \t\t 12866 \t    17563 \t 20338 \t 11526\n",
      "MSP \t 2564 \t\t 4720 \t\t 2825 \t    5138 \t 6652 \t 9968\n",
      "MWMT \t 4205 \t\t 6698 \t\t 4535 \t    7183 \t 8597 \t 10789\n",
      "NFFD \t 916 \t\t 1891 \t\t 1024 \t    2141 \t 2820 \t 9653\n",
      "PAS \t 2663 \t\t 5285 \t\t 2944 \t    5834 \t 7750 \t 10293\n",
      "SHM \t 400 \t\t 1016 \t\t 467 \t    1187 \t 1710 \t 8780\n",
      "TD \t 7502 \t\t 10764 \t\t 7856 \t    11463 \t 13629 \t 10944\n",
      "bFFP \t 1401 \t\t 2706 \t\t 1573 \t    3003 \t 3844 \t 9961\n",
      "eFFP \t 6831 \t\t 9936 \t\t 7216 \t    10569 \t 12266 \t 11053\n"
     ]
    }
   ],
   "source": [
    "# print table with outliers based on several criteria\n",
    "print(ColorText('Jack pine\\n').bold().green())\n",
    "print('Env   BFConsistent20  BFConsistent15  BFMean20\\t  BFMean15   BFMean13  \\tRankConsistent')\n",
    "for env in sorted(envdfs.keys()):\n",
    "    df = envdfs[env]\n",
    "    print(env,\n",
    "          '\\t',sum(df['BF(dB)_gte20_for-gte3chains']),\n",
    "          '\\t\\t',sum(df['BF(dB)_gte15_for-gte3chains']),\n",
    "          '\\t\\t',sum(df['mean_BF(dB)']>=20),\n",
    "          '\\t   ',sum(df['mean_BF(dB)']>=15),\n",
    "          '\\t',sum(df['mean_BF(dB)']>=13),\n",
    "          '\\t', sum(df['rank_consistency_top1perc_for-gte3chains']))"
   ]
  },
  {
   "cell_type": "code",
   "execution_count": 26,
   "metadata": {},
   "outputs": [
    {
     "data": {
      "text/plain": [
       "12350.28"
      ]
     },
     "execution_count": 26,
     "metadata": {},
     "output_type": "execute_result"
    }
   ],
   "source": [
    "# what should I expect for the number in top 1%?\n",
    "0.01*nrow(df)"
   ]
  },
  {
   "cell_type": "markdown",
   "metadata": {},
   "source": [
    "# look at BF scores for consistent top 1% ranks"
   ]
  },
  {
   "cell_type": "code",
   "execution_count": 27,
   "metadata": {
    "scrolled": true
   },
   "outputs": [
    {
     "name": "stdout",
     "output_type": "stream",
     "text": [
      "\u001b[1mAHM\u001b[0m 9106\n",
      "\tnumber of loci with meanBF >= 0 :  9106 (True)\n",
      "\tnumber of loci with meanBF >= 10 :  4315\n",
      "\tnumber of loci with meanBF >= 15 :  1793\n",
      "\tnumber of loci with meanBF >= 20 :  832\n",
      "\tfraction of BF >= 15 :  0.2\n",
      "\tfraction of BF >= 10 :  0.47\n"
     ]
    },
    {
     "data": {
      "image/png": "[encoded data removed]",
      "text/plain": [
       "<Figure size 432x288 with 1 Axes>"
      ]
     },
     "metadata": {
      "needs_background": "light"
     },
     "output_type": "display_data"
    },
    {
     "name": "stdout",
     "output_type": "stream",
     "text": [
      "\n",
      "\n",
      "\u001b[1mNFFD\u001b[0m 9653\n",
      "\tnumber of loci with meanBF >= 0 :  9653 (True)\n",
      "\tnumber of loci with meanBF >= 10 :  4327\n",
      "\tnumber of loci with meanBF >= 15 :  2141\n",
      "\tnumber of loci with meanBF >= 20 :  1024\n",
      "\tfraction of BF >= 15 :  0.22\n",
      "\tfraction of BF >= 10 :  0.45\n"
     ]
    },
    {
     "data": {
      "image/png": "[encoded data removed]",
      "text/plain": [
       "<Figure size 432x288 with 1 Axes>"
      ]
     },
     "metadata": {
      "needs_background": "light"
     },
     "output_type": "display_data"
    },
    {
     "name": "stdout",
     "output_type": "stream",
     "text": [
      "\n",
      "\n",
      "\u001b[1mPAS\u001b[0m 10293\n",
      "\tnumber of loci with meanBF >= 0 :  10293 (True)\n",
      "\tnumber of loci with meanBF >= 10 :  10201\n",
      "\tnumber of loci with meanBF >= 15 :  5822\n",
      "\tnumber of loci with meanBF >= 20 :  2944\n",
      "\tfraction of BF >= 15 :  0.57\n",
      "\tfraction of BF >= 10 :  0.99\n",
      "\u001b[1m\u001b[93m\tnot all SNPs with BF >= 15 are consistently in top 1% : full (5834) vs 1% (5822) (diff = 12)\u001b[0m\u001b[0m\n"
     ]
    },
    {
     "data": {
      "image/png": "[encoded data removed]",
      "text/plain": [
       "<Figure size 432x288 with 1 Axes>"
      ]
     },
     "metadata": {
      "needs_background": "light"
     },
     "output_type": "display_data"
    },
    {
     "name": "stdout",
     "output_type": "stream",
     "text": [
      "\n",
      "\n",
      "\u001b[1mSHM\u001b[0m 8780\n",
      "\tnumber of loci with meanBF >= 0 :  8780 (True)\n",
      "\tnumber of loci with meanBF >= 10 :  3071\n",
      "\tnumber of loci with meanBF >= 15 :  1187\n",
      "\tnumber of loci with meanBF >= 20 :  467\n",
      "\tfraction of BF >= 15 :  0.14\n",
      "\tfraction of BF >= 10 :  0.35\n"
     ]
    },
    {
     "data": {
      "image/png": "[encoded data removed]",
      "text/plain": [
       "<Figure size 432x288 with 1 Axes>"
      ]
     },
     "metadata": {
      "needs_background": "light"
     },
     "output_type": "display_data"
    },
    {
     "name": "stdout",
     "output_type": "stream",
     "text": [
      "\n",
      "\n",
      "\u001b[1mMAT\u001b[0m 11588\n",
      "\tnumber of loci with meanBF >= 0 :  11588 (True)\n",
      "\tnumber of loci with meanBF >= 10 :  11588\n",
      "\tnumber of loci with meanBF >= 15 :  11588\n",
      "\tnumber of loci with meanBF >= 20 :  11578\n",
      "\tfraction of BF >= 15 :  1.0\n",
      "\tfraction of BF >= 10 :  1.0\n",
      "\u001b[1m\u001b[93m\tnot all SNPs with BF >= 15 are consistently in top 1% : full (17052) vs 1% (11588) (diff = 5464)\u001b[0m\u001b[0m\n",
      "\u001b[1m\u001b[93m\tnot all SNPs with BF >= 20 are consistently in top 1% : full (12911) vs 1% (11578) (diff = 1333)\u001b[0m\u001b[0m\n"
     ]
    },
    {
     "data": {
      "image/png": "[encoded data removed]",
      "text/plain": [
       "<Figure size 432x288 with 1 Axes>"
      ]
     },
     "metadata": {
      "needs_background": "light"
     },
     "output_type": "display_data"
    },
    {
     "name": "stdout",
     "output_type": "stream",
     "text": [
      "\n",
      "\n",
      "\u001b[1mMAP\u001b[0m 10906\n",
      "\tnumber of loci with meanBF >= 0 :  10906 (True)\n",
      "\tnumber of loci with meanBF >= 10 :  10906\n",
      "\tnumber of loci with meanBF >= 15 :  10905\n",
      "\tnumber of loci with meanBF >= 20 :  9039\n",
      "\tfraction of BF >= 15 :  1.0\n",
      "\tfraction of BF >= 10 :  1.0\n",
      "\u001b[1m\u001b[93m\tnot all SNPs with BF >= 15 are consistently in top 1% : full (15043) vs 1% (10905) (diff = 4138)\u001b[0m\u001b[0m\n",
      "\u001b[1m\u001b[93m\tnot all SNPs with BF >= 20 are consistently in top 1% : full (9143) vs 1% (9039) (diff = 104)\u001b[0m\u001b[0m\n"
     ]
    },
    {
     "data": {
      "image/png": "[encoded data removed]",
      "text/plain": [
       "<Figure size 432x288 with 1 Axes>"
      ]
     },
     "metadata": {
      "needs_background": "light"
     },
     "output_type": "display_data"
    },
    {
     "name": "stdout",
     "output_type": "stream",
     "text": [
      "\n",
      "\n",
      "\u001b[1mFFP\u001b[0m 10982\n",
      "\tnumber of loci with meanBF >= 0 :  10982 (True)\n",
      "\tnumber of loci with meanBF >= 10 :  10966\n",
      "\tnumber of loci with meanBF >= 15 :  8375\n",
      "\tnumber of loci with meanBF >= 20 :  5556\n",
      "\tfraction of BF >= 15 :  0.76\n",
      "\tfraction of BF >= 10 :  1.0\n",
      "\u001b[1m\u001b[93m\tnot all SNPs with BF >= 15 are consistently in top 1% : full (8396) vs 1% (8375) (diff = 21)\u001b[0m\u001b[0m\n"
     ]
    },
    {
     "data": {
      "image/png": "[encoded data removed]",
      "text/plain": [
       "<Figure size 432x288 with 1 Axes>"
      ]
     },
     "metadata": {
      "needs_background": "light"
     },
     "output_type": "display_data"
    },
    {
     "name": "stdout",
     "output_type": "stream",
     "text": [
      "\n",
      "\n",
      "\u001b[1mMWMT\u001b[0m 10789\n",
      "\tnumber of loci with meanBF >= 0 :  10789 (True)\n",
      "\tnumber of loci with meanBF >= 10 :  10533\n",
      "\tnumber of loci with meanBF >= 15 :  7175\n",
      "\tnumber of loci with meanBF >= 20 :  4535\n",
      "\tfraction of BF >= 15 :  0.67\n",
      "\tfraction of BF >= 10 :  0.98\n",
      "\u001b[1m\u001b[93m\tnot all SNPs with BF >= 15 are consistently in top 1% : full (7183) vs 1% (7175) (diff = 8)\u001b[0m\u001b[0m\n"
     ]
    },
    {
     "data": {
      "image/png": "[encoded data removed]",
      "text/plain": [
       "<Figure size 432x288 with 1 Axes>"
      ]
     },
     "metadata": {
      "needs_background": "light"
     },
     "output_type": "display_data"
    },
    {
     "name": "stdout",
     "output_type": "stream",
     "text": [
      "\n",
      "\n",
      "\u001b[1mEMT\u001b[0m 11305\n",
      "\tnumber of loci with meanBF >= 0 :  11305 (True)\n",
      "\tnumber of loci with meanBF >= 10 :  11305\n",
      "\tnumber of loci with meanBF >= 15 :  11303\n",
      "\tnumber of loci with meanBF >= 20 :  9642\n",
      "\tfraction of BF >= 15 :  1.0\n",
      "\tfraction of BF >= 10 :  1.0\n",
      "\u001b[1m\u001b[93m\tnot all SNPs with BF >= 15 are consistently in top 1% : full (13235) vs 1% (11303) (diff = 1932)\u001b[0m\u001b[0m\n",
      "\u001b[1m\u001b[93m\tnot all SNPs with BF >= 20 are consistently in top 1% : full (9675) vs 1% (9642) (diff = 33)\u001b[0m\u001b[0m\n"
     ]
    },
    {
     "data": {
      "image/png": "[encoded data removed]",
      "text/plain": [
       "<Figure size 432x288 with 1 Axes>"
      ]
     },
     "metadata": {
      "needs_background": "light"
     },
     "output_type": "display_data"
    },
    {
     "name": "stdout",
     "output_type": "stream",
     "text": [
      "\n",
      "\n",
      "\u001b[1mEXT\u001b[0m 8176\n",
      "\tnumber of loci with meanBF >= 0 :  8174 (False)\n",
      "\tnumber of loci with meanBF >= 10 :  1519\n",
      "\tnumber of loci with meanBF >= 15 :  583\n",
      "\tnumber of loci with meanBF >= 20 :  235\n",
      "\tfraction of BF >= 15 :  0.07\n",
      "\tfraction of BF >= 10 :  0.19\n"
     ]
    },
    {
     "data": {
      "image/png": "[encoded data removed]",
      "text/plain": [
       "<Figure size 432x288 with 1 Axes>"
      ]
     },
     "metadata": {
      "needs_background": "light"
     },
     "output_type": "display_data"
    },
    {
     "name": "stdout",
     "output_type": "stream",
     "text": [
      "\n",
      "\n",
      "\u001b[1mDD_0\u001b[0m 11478\n",
      "\tnumber of loci with meanBF >= 0 :  11478 (True)\n",
      "\tnumber of loci with meanBF >= 10 :  11478\n",
      "\tnumber of loci with meanBF >= 15 :  11478\n",
      "\tnumber of loci with meanBF >= 20 :  11376\n",
      "\tfraction of BF >= 15 :  1.0\n",
      "\tfraction of BF >= 10 :  1.0\n",
      "\u001b[1m\u001b[93m\tnot all SNPs with BF >= 15 are consistently in top 1% : full (16410) vs 1% (11478) (diff = 4932)\u001b[0m\u001b[0m\n",
      "\u001b[1m\u001b[93m\tnot all SNPs with BF >= 20 are consistently in top 1% : full (12053) vs 1% (11376) (diff = 677)\u001b[0m\u001b[0m\n"
     ]
    },
    {
     "data": {
      "image/png": "[encoded data removed]",
      "text/plain": [
       "<Figure size 432x288 with 1 Axes>"
      ]
     },
     "metadata": {
      "needs_background": "light"
     },
     "output_type": "display_data"
    },
    {
     "name": "stdout",
     "output_type": "stream",
     "text": [
      "\n",
      "\n",
      "\u001b[1mEref\u001b[0m 11532\n",
      "\tnumber of loci with meanBF >= 0 :  11532 (True)\n",
      "\tnumber of loci with meanBF >= 10 :  11532\n",
      "\tnumber of loci with meanBF >= 15 :  11526\n",
      "\tnumber of loci with meanBF >= 20 :  9933\n",
      "\tfraction of BF >= 15 :  1.0\n",
      "\tfraction of BF >= 10 :  1.0\n",
      "\u001b[1m\u001b[93m\tnot all SNPs with BF >= 15 are consistently in top 1% : full (13476) vs 1% (11526) (diff = 1950)\u001b[0m\u001b[0m\n",
      "\u001b[1m\u001b[93m\tnot all SNPs with BF >= 20 are consistently in top 1% : full (9975) vs 1% (9933) (diff = 42)\u001b[0m\u001b[0m\n"
     ]
    },
    {
     "data": {
      "image/png": "[encoded data removed]",
      "text/plain": [
       "<Figure size 432x288 with 1 Axes>"
      ]
     },
     "metadata": {
      "needs_background": "light"
     },
     "output_type": "display_data"
    },
    {
     "name": "stdout",
     "output_type": "stream",
     "text": [
      "\n",
      "\n",
      "\u001b[1meFFP\u001b[0m 11053\n",
      "\tnumber of loci with meanBF >= 0 :  11053 (True)\n",
      "\tnumber of loci with meanBF >= 10 :  11053\n",
      "\tnumber of loci with meanBF >= 15 :  10345\n",
      "\tnumber of loci with meanBF >= 20 :  7214\n",
      "\tfraction of BF >= 15 :  0.94\n",
      "\tfraction of BF >= 10 :  1.0\n",
      "\u001b[1m\u001b[93m\tnot all SNPs with BF >= 15 are consistently in top 1% : full (10569) vs 1% (10345) (diff = 224)\u001b[0m\u001b[0m\n",
      "\u001b[1m\u001b[93m\tnot all SNPs with BF >= 20 are consistently in top 1% : full (7216) vs 1% (7214) (diff = 2)\u001b[0m\u001b[0m\n"
     ]
    },
    {
     "data": {
      "image/png": "[encoded data removed]",
      "text/plain": [
       "<Figure size 432x288 with 1 Axes>"
      ]
     },
     "metadata": {
      "needs_background": "light"
     },
     "output_type": "display_data"
    },
    {
     "name": "stdout",
     "output_type": "stream",
     "text": [
      "\n",
      "\n",
      "\u001b[1mMCMT\u001b[0m 11526\n",
      "\tnumber of loci with meanBF >= 0 :  11526 (True)\n",
      "\tnumber of loci with meanBF >= 10 :  11526\n",
      "\tnumber of loci with meanBF >= 15 :  11526\n",
      "\tnumber of loci with meanBF >= 20 :  11514\n",
      "\tfraction of BF >= 15 :  1.0\n",
      "\tfraction of BF >= 10 :  1.0\n",
      "\u001b[1m\u001b[93m\tnot all SNPs with BF >= 15 are consistently in top 1% : full (17563) vs 1% (11526) (diff = 6037)\u001b[0m\u001b[0m\n",
      "\u001b[1m\u001b[93m\tnot all SNPs with BF >= 20 are consistently in top 1% : full (12866) vs 1% (11514) (diff = 1352)\u001b[0m\u001b[0m\n"
     ]
    },
    {
     "data": {
      "image/png": "[encoded data removed]",
      "text/plain": [
       "<Figure size 432x288 with 1 Axes>"
      ]
     },
     "metadata": {
      "needs_background": "light"
     },
     "output_type": "display_data"
    },
    {
     "name": "stdout",
     "output_type": "stream",
     "text": [
      "\n",
      "\n",
      "\u001b[1mDD5\u001b[0m 11418\n",
      "\tnumber of loci with meanBF >= 0 :  11418 (True)\n",
      "\tnumber of loci with meanBF >= 10 :  11418\n",
      "\tnumber of loci with meanBF >= 15 :  11402\n",
      "\tnumber of loci with meanBF >= 20 :  9294\n",
      "\tfraction of BF >= 15 :  1.0\n",
      "\tfraction of BF >= 10 :  1.0\n",
      "\u001b[1m\u001b[93m\tnot all SNPs with BF >= 15 are consistently in top 1% : full (12751) vs 1% (11402) (diff = 1349)\u001b[0m\u001b[0m\n",
      "\u001b[1m\u001b[93m\tnot all SNPs with BF >= 20 are consistently in top 1% : full (9321) vs 1% (9294) (diff = 27)\u001b[0m\u001b[0m\n"
     ]
    },
    {
     "data": {
      "image/png": "[encoded data removed]",
      "text/plain": [
       "<Figure size 432x288 with 1 Axes>"
      ]
     },
     "metadata": {
      "needs_background": "light"
     },
     "output_type": "display_data"
    },
    {
     "name": "stdout",
     "output_type": "stream",
     "text": [
      "\n",
      "\n",
      "\u001b[1mTD\u001b[0m 10944\n",
      "\tnumber of loci with meanBF >= 0 :  10944 (True)\n",
      "\tnumber of loci with meanBF >= 10 :  10944\n",
      "\tnumber of loci with meanBF >= 15 :  10740\n",
      "\tnumber of loci with meanBF >= 20 :  7852\n",
      "\tfraction of BF >= 15 :  0.98\n",
      "\tfraction of BF >= 10 :  1.0\n",
      "\u001b[1m\u001b[93m\tnot all SNPs with BF >= 15 are consistently in top 1% : full (11463) vs 1% (10740) (diff = 723)\u001b[0m\u001b[0m\n",
      "\u001b[1m\u001b[93m\tnot all SNPs with BF >= 20 are consistently in top 1% : full (7856) vs 1% (7852) (diff = 4)\u001b[0m\u001b[0m\n"
     ]
    },
    {
     "data": {
      "image/png": "[encoded data removed]",
      "text/plain": [
       "<Figure size 432x288 with 1 Axes>"
      ]
     },
     "metadata": {
      "needs_background": "light"
     },
     "output_type": "display_data"
    },
    {
     "name": "stdout",
     "output_type": "stream",
     "text": [
      "\n",
      "\n",
      "\u001b[1mbFFP\u001b[0m 9961\n",
      "\tnumber of loci with meanBF >= 0 :  9961 (True)\n",
      "\tnumber of loci with meanBF >= 10 :  5588\n",
      "\tnumber of loci with meanBF >= 15 :  3003\n",
      "\tnumber of loci with meanBF >= 20 :  1573\n",
      "\tfraction of BF >= 15 :  0.3\n",
      "\tfraction of BF >= 10 :  0.56\n"
     ]
    },
    {
     "data": {
      "image/png": "[encoded data removed]",
      "text/plain": [
       "<Figure size 432x288 with 1 Axes>"
      ]
     },
     "metadata": {
      "needs_background": "light"
     },
     "output_type": "display_data"
    },
    {
     "name": "stdout",
     "output_type": "stream",
     "text": [
      "\n",
      "\n",
      "\u001b[1mMSP\u001b[0m 9968\n",
      "\tnumber of loci with meanBF >= 0 :  9968 (True)\n",
      "\tnumber of loci with meanBF >= 10 :  9329\n",
      "\tnumber of loci with meanBF >= 15 :  5136\n",
      "\tnumber of loci with meanBF >= 20 :  2825\n",
      "\tfraction of BF >= 15 :  0.52\n",
      "\tfraction of BF >= 10 :  0.94\n",
      "\u001b[1m\u001b[93m\tnot all SNPs with BF >= 15 are consistently in top 1% : full (5138) vs 1% (5136) (diff = 2)\u001b[0m\u001b[0m\n"
     ]
    },
    {
     "data": {
      "image/png": "[encoded data removed]",
      "text/plain": [
       "<Figure size 432x288 with 1 Axes>"
      ]
     },
     "metadata": {
      "needs_background": "light"
     },
     "output_type": "display_data"
    },
    {
     "name": "stdout",
     "output_type": "stream",
     "text": [
      "\n",
      "\n",
      "\u001b[1mCMD\u001b[0m 9060\n",
      "\tnumber of loci with meanBF >= 0 :  9060 (True)\n",
      "\tnumber of loci with meanBF >= 10 :  3707\n",
      "\tnumber of loci with meanBF >= 15 :  1520\n",
      "\tnumber of loci with meanBF >= 20 :  707\n",
      "\tfraction of BF >= 15 :  0.17\n",
      "\tfraction of BF >= 10 :  0.41\n"
     ]
    },
    {
     "data": {
      "image/png": "[encoded data removed]",
      "text/plain": [
       "<Figure size 432x288 with 1 Axes>"
      ]
     },
     "metadata": {
      "needs_background": "light"
     },
     "output_type": "display_data"
    },
    {
     "name": "stdout",
     "output_type": "stream",
     "text": [
      "\n",
      "\n",
      "\u001b[1m\n",
      "Fraction of meanBF >=15 across envs\u001b[0m\n"
     ]
    },
    {
     "data": {
      "image/png": "[encoded data removed]",
      "text/plain": [
       "<Figure size 432x288 with 1 Axes>"
      ]
     },
     "metadata": {
      "needs_background": "light"
     },
     "output_type": "display_data"
    },
    {
     "data": {
      "text/html": [
       "<div>\n",
       "<style scoped>\n",
       "    .dataframe tbody tr th:only-of-type {\n",
       "        vertical-align: middle;\n",
       "    }\n",
       "\n",
       "    .dataframe tbody tr th {\n",
       "        vertical-align: top;\n",
       "    }\n",
       "\n",
       "    .dataframe thead th {\n",
       "        text-align: right;\n",
       "    }\n",
       "</style>\n",
       "<table border=\"1\" class=\"dataframe\">\n",
       "  <thead>\n",
       "    <tr style=\"text-align: right;\">\n",
       "      <th></th>\n",
       "      <th>AHM</th>\n",
       "      <th>NFFD</th>\n",
       "      <th>PAS</th>\n",
       "      <th>SHM</th>\n",
       "      <th>MAT</th>\n",
       "      <th>MAP</th>\n",
       "      <th>FFP</th>\n",
       "      <th>MWMT</th>\n",
       "      <th>EMT</th>\n",
       "      <th>EXT</th>\n",
       "      <th>DD_0</th>\n",
       "      <th>Eref</th>\n",
       "      <th>eFFP</th>\n",
       "      <th>MCMT</th>\n",
       "      <th>DD5</th>\n",
       "      <th>TD</th>\n",
       "      <th>bFFP</th>\n",
       "      <th>MSP</th>\n",
       "      <th>CMD</th>\n",
       "    </tr>\n",
       "  </thead>\n",
       "  <tbody>\n",
       "    <tr>\n",
       "      <th>0</th>\n",
       "      <td>0.2</td>\n",
       "      <td>0.22</td>\n",
       "      <td>0.57</td>\n",
       "      <td>0.14</td>\n",
       "      <td>1.0</td>\n",
       "      <td>1.0</td>\n",
       "      <td>0.76</td>\n",
       "      <td>0.67</td>\n",
       "      <td>1.0</td>\n",
       "      <td>0.07</td>\n",
       "      <td>1.0</td>\n",
       "      <td>1.0</td>\n",
       "      <td>0.94</td>\n",
       "      <td>1.0</td>\n",
       "      <td>1.0</td>\n",
       "      <td>0.98</td>\n",
       "      <td>0.3</td>\n",
       "      <td>0.52</td>\n",
       "      <td>0.17</td>\n",
       "    </tr>\n",
       "  </tbody>\n",
       "</table>\n",
       "</div>"
      ],
      "text/plain": [
       "   AHM  NFFD   PAS   SHM  MAT  MAP   FFP  MWMT  EMT   EXT  DD_0  Eref  eFFP  \\\n",
       "0  0.2  0.22  0.57  0.14  1.0  1.0  0.76  0.67  1.0  0.07   1.0   1.0  0.94   \n",
       "\n",
       "   MCMT  DD5    TD  bFFP   MSP   CMD  \n",
       "0   1.0  1.0  0.98   0.3  0.52  0.17  "
      ]
     },
     "execution_count": 27,
     "metadata": {},
     "output_type": "execute_result"
    }
   ],
   "source": [
    "# for **ONLY** those loci that are consistently ranked in top 1%\n",
    "# print histograms of bayes factor for each environment\n",
    "# print fraction of top 1%BFs that have BF ≥ 15 or BF ≥ 20\n",
    "# also look at histogram for BFs < 100\n",
    "\n",
    "# also count number of loci across all SNPs that have BF ≥ 15 or BF ≥ 20, print if count doesn't match top 1%\n",
    "fracs = defaultdict(dict)\n",
    "for env,df in envdfs.items():\n",
    "    df = df[df['rank_consistency_top1perc_for-gte3chains'] == True]\n",
    "    BFs = df['mean_BF(dB)']\n",
    "    small15 = sum(BFs >= 15)\n",
    "    small20 = sum(BFs >= 20)\n",
    "    print(ColorText(env).bold(), nrow(df))\n",
    "    print('\\tnumber of loci with meanBF >= 0 : ', sum(BFs >= 0), \"(%s)\" % str(sum(BFs >= 0) == nrow(df)))\n",
    "    print('\\tnumber of loci with meanBF >= 10 : ', sum(BFs >= 10))\n",
    "    print('\\tnumber of loci with meanBF >= 15 : ', small15)\n",
    "    print('\\tnumber of loci with meanBF >= 20 : ', small20)\n",
    "    frac = round(sum(BFs >= 15)/nrow(df), 2)\n",
    "    frac2 = round(sum(BFs >= 10)/nrow(df), 2)\n",
    "    fracs[env][0] = frac\n",
    "    print('\\tfraction of BF >= 15 : ', frac)\n",
    "    print('\\tfraction of BF >= 10 : ', frac2)\n",
    "    sum15 = sum(envdfs[env]['mean_BF(dB)'] >= 15)\n",
    "    sum20 = sum(envdfs[env]['mean_BF(dB)'] >= 20)\n",
    "    if small15 != sum15:\n",
    "        text = '\\tnot all SNPs with BF >= 15 are consistently in top 1%'\n",
    "        print(ColorText(f\"{text} : full ({sum15}) vs 1% ({small15}) (diff = {sum15 - small15})\").warn().bold())\n",
    "    if small20 != sum20:\n",
    "        text = '\\tnot all SNPs with BF >= 20 are consistently in top 1%'\n",
    "        print(ColorText(f\"{text} : full ({sum20}) vs 1% ({small20}) (diff = {sum20 - small20})\").warn().bold())\n",
    "    plt.hist(BFs[BFs<100], bins=100)\n",
    "    plt.title('number of loci with BF < 100')\n",
    "    plt.show()\n",
    "    print('\\n')\n",
    "\n",
    "# create histogram for fraction of SNPs in consistent top 1% across environments\n",
    "print(ColorText('\\nFraction of meanBF >=15 across envs').bold())\n",
    "fracdf = pd.DataFrame(fracs)\n",
    "plt.hist(fracdf.loc[0,:])\n",
    "plt.xlabel('fraction')\n",
    "plt.show()\n",
    "fracdf"
   ]
  },
  {
   "cell_type": "code",
   "execution_count": null,
   "metadata": {},
   "outputs": [],
   "source": []
  },
  {
   "cell_type": "code",
   "execution_count": null,
   "metadata": {},
   "outputs": [],
   "source": []
  },
  {
   "cell_type": "code",
   "execution_count": null,
   "metadata": {},
   "outputs": [],
   "source": []
  },
  {
   "cell_type": "code",
   "execution_count": null,
   "metadata": {},
   "outputs": [],
   "source": []
  },
  {
   "cell_type": "code",
   "execution_count": null,
   "metadata": {},
   "outputs": [],
   "source": []
  },
  {
   "cell_type": "code",
   "execution_count": null,
   "metadata": {},
   "outputs": [],
   "source": []
  },
  {
   "cell_type": "code",
   "execution_count": null,
   "metadata": {},
   "outputs": [],
   "source": []
  },
  {
   "cell_type": "code",
   "execution_count": null,
   "metadata": {},
   "outputs": [],
   "source": []
  },
  {
   "cell_type": "code",
   "execution_count": null,
   "metadata": {},
   "outputs": [],
   "source": []
  },
  {
   "cell_type": "code",
   "execution_count": null,
   "metadata": {},
   "outputs": [],
   "source": []
  },
  {
   "cell_type": "code",
   "execution_count": null,
   "metadata": {},
   "outputs": [],
   "source": []
  },
  {
   "cell_type": "code",
   "execution_count": null,
   "metadata": {},
   "outputs": [],
   "source": []
  },
  {
   "cell_type": "code",
   "execution_count": null,
   "metadata": {},
   "outputs": [],
   "source": []
  },
  {
   "cell_type": "code",
   "execution_count": null,
   "metadata": {},
   "outputs": [],
   "source": []
  },
  {
   "cell_type": "code",
   "execution_count": null,
   "metadata": {},
   "outputs": [],
   "source": []
  }
 ],
 "metadata": {
  "kernelspec": {
   "display_name": "Python 3",
   "language": "python",
   "name": "python3"
  },
  "language_info": {
   "codemirror_mode": {
    "name": "ipython",
    "version": 3
   },
   "file_extension": ".py",
   "mimetype": "text/x-python",
   "name": "python",
   "nbconvert_exporter": "python",
   "pygments_lexer": "ipython3",
   "version": "3.8.5"
  }
 },
 "nbformat": 4,
 "nbformat_minor": 4
}
